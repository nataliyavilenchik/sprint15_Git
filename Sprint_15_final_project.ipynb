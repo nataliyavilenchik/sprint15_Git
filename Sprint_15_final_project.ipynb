{
 "cells": [
  {
   "cell_type": "markdown",
   "id": "2ec1dbd4",
   "metadata": {},
   "source": [
    "В данном проекте исследуется поведение покупателей интернет-магазина \"В один клик\" с целью удерживать активность постоянных клиентов. Для предсказания снижения покупательской активности в будущем мы построим ML-модель. В основе будут лежать 4 типа ключевых признаков:\n",
    "\n",
    "- Признаки, которые описывают коммуникацию сотрудников компании с клиентом.\n",
    "- Признаки, которые описывают продуктовое поведение покупателя. Например, какие товары покупает и как часто.\n",
    "- Признаки, которые описывают покупательское поведение клиента. Например, сколько тратил в магазине.\n",
    "- Признаки, которые описывают поведение покупателя на сайте. Например, как много страниц просматривает и сколько времени проводит на сайте.\n",
    "\n",
    "На основе модели будут выделены ключевые факторы, влияющие на вероятность снижения покупательской активности, а также сегменты пользователей, имеющих наибольшую вероятность снижения активности."
   ]
  },
  {
   "cell_type": "code",
   "execution_count": 1,
   "id": "b334d53d",
   "metadata": {
    "scrolled": true
   },
   "outputs": [],
   "source": [
    "import pandas as pd\n",
    "import warnings\n",
    "import seaborn as sns\n",
    "import numpy as np\n",
    "import shap\n",
    "import matplotlib.pyplot as plt\n",
    "import os\n",
    "import phik\n",
    "\n",
    "from itertools import product\n",
    "from scipy import stats\n",
    "\n",
    "from sklearn.model_selection import train_test_split, RandomizedSearchCV\n",
    "\n",
    "# загружаем класс pipeline\n",
    "from sklearn.pipeline import Pipeline\n",
    "\n",
    "# загружаем классы для подготовки данных\n",
    "from sklearn.preprocessing import OneHotEncoder, OrdinalEncoder, StandardScaler, MinMaxScaler, RobustScaler\n",
    "from sklearn.compose import ColumnTransformer\n",
    "\n",
    "# загружаем класс для работы с пропусками\n",
    "from sklearn.impute import SimpleImputer\n",
    "\n",
    "# загружаем нужные модели\n",
    "from sklearn.linear_model import LogisticRegression\n",
    "from sklearn.neighbors import KNeighborsClassifier\n",
    "from sklearn.tree import DecisionTreeClassifier\n",
    "from sklearn.svm import SVC\n",
    "\n",
    "# загружаем функцию для работы с метриками\n",
    "from sklearn.metrics import roc_auc_score, accuracy_score\n",
    "\n",
    "warnings.filterwarnings(\"ignore\")"
   ]
  },
  {
   "cell_type": "code",
   "execution_count": 2,
   "id": "f72af868",
   "metadata": {},
   "outputs": [],
   "source": [
    "# константы модели\n",
    "RANDOM_STATE = 42\n",
    "TEST_SIZE = 0.25"
   ]
  },
  {
   "cell_type": "code",
   "execution_count": 3,
   "id": "0c970691",
   "metadata": {},
   "outputs": [],
   "source": [
    "def remove_dupes(df):\n",
    "    \"\"\"Считает количество явных дубликатов в датасете, выводит на экран их количество и удаляет дубликаты\"\"\"\n",
    "    duplicate_rows = df.duplicated()\n",
    "    print(len(df[duplicate_rows]))\n",
    "    df.drop_duplicates(inplace=True)\n",
    "    return(df)"
   ]
  },
  {
   "cell_type": "code",
   "execution_count": 4,
   "id": "e2dff2ec",
   "metadata": {},
   "outputs": [],
   "source": [
    "def find_dupes(df):\n",
    "    \"\"\"Вспомогательная функция для поиска неявных дубликатов\"\"\"\n",
    "    cat_columns = df.select_dtypes(exclude=['number']).columns\n",
    "    for column in cat_columns:\n",
    "        print(df[column].value_counts(ascending=False))"
   ]
  },
  {
   "cell_type": "code",
   "execution_count": 5,
   "id": "a989e58e",
   "metadata": {},
   "outputs": [],
   "source": [
    "def analyze_num_columns(df, column):\n",
    "    \"\"\"Функция для исследовательского анализа количественных признаков\"\"\"\n",
    "    df.hist(column=column, color='mediumseagreen', bins=20)\n",
    "    plt.show()\n",
    "    \n",
    "    print('\\n')\n",
    "    df.boxplot(column=column)\n",
    "    plt.show()"
   ]
  },
  {
   "cell_type": "markdown",
   "id": "434321f2",
   "metadata": {},
   "source": [
    "## Шаг 1. Загрузка данных"
   ]
  },
  {
   "cell_type": "code",
   "execution_count": 6,
   "id": "a0493c1e",
   "metadata": {},
   "outputs": [
    {
     "data": {
      "text/html": [
       "<div>\n",
       "<style scoped>\n",
       "    .dataframe tbody tr th:only-of-type {\n",
       "        vertical-align: middle;\n",
       "    }\n",
       "\n",
       "    .dataframe tbody tr th {\n",
       "        vertical-align: top;\n",
       "    }\n",
       "\n",
       "    .dataframe thead th {\n",
       "        text-align: right;\n",
       "    }\n",
       "</style>\n",
       "<table border=\"1\" class=\"dataframe\">\n",
       "  <thead>\n",
       "    <tr style=\"text-align: right;\">\n",
       "      <th></th>\n",
       "      <th>id</th>\n",
       "      <th>Покупательская активность</th>\n",
       "      <th>Тип сервиса</th>\n",
       "      <th>Разрешить сообщать</th>\n",
       "      <th>Маркет_актив_6_мес</th>\n",
       "      <th>Маркет_актив_тек_мес</th>\n",
       "      <th>Длительность</th>\n",
       "      <th>Акционные_покупки</th>\n",
       "      <th>Популярная_категория</th>\n",
       "      <th>Средний_просмотр_категорий_за_визит</th>\n",
       "      <th>Неоплаченные_продукты_штук_квартал</th>\n",
       "      <th>Ошибка_сервиса</th>\n",
       "      <th>Страниц_за_визит</th>\n",
       "    </tr>\n",
       "  </thead>\n",
       "  <tbody>\n",
       "    <tr>\n",
       "      <th>0</th>\n",
       "      <td>215348</td>\n",
       "      <td>Снизилась</td>\n",
       "      <td>премиум</td>\n",
       "      <td>да</td>\n",
       "      <td>3.4</td>\n",
       "      <td>5</td>\n",
       "      <td>121</td>\n",
       "      <td>0.00</td>\n",
       "      <td>Товары для детей</td>\n",
       "      <td>6</td>\n",
       "      <td>2</td>\n",
       "      <td>1</td>\n",
       "      <td>5</td>\n",
       "    </tr>\n",
       "    <tr>\n",
       "      <th>1</th>\n",
       "      <td>215349</td>\n",
       "      <td>Снизилась</td>\n",
       "      <td>премиум</td>\n",
       "      <td>да</td>\n",
       "      <td>4.4</td>\n",
       "      <td>4</td>\n",
       "      <td>819</td>\n",
       "      <td>0.75</td>\n",
       "      <td>Товары для детей</td>\n",
       "      <td>4</td>\n",
       "      <td>4</td>\n",
       "      <td>2</td>\n",
       "      <td>5</td>\n",
       "    </tr>\n",
       "    <tr>\n",
       "      <th>2</th>\n",
       "      <td>215350</td>\n",
       "      <td>Снизилась</td>\n",
       "      <td>стандартт</td>\n",
       "      <td>нет</td>\n",
       "      <td>4.9</td>\n",
       "      <td>3</td>\n",
       "      <td>539</td>\n",
       "      <td>0.14</td>\n",
       "      <td>Домашний текстиль</td>\n",
       "      <td>5</td>\n",
       "      <td>2</td>\n",
       "      <td>1</td>\n",
       "      <td>5</td>\n",
       "    </tr>\n",
       "    <tr>\n",
       "      <th>3</th>\n",
       "      <td>215351</td>\n",
       "      <td>Снизилась</td>\n",
       "      <td>стандартт</td>\n",
       "      <td>да</td>\n",
       "      <td>3.2</td>\n",
       "      <td>5</td>\n",
       "      <td>896</td>\n",
       "      <td>0.99</td>\n",
       "      <td>Товары для детей</td>\n",
       "      <td>5</td>\n",
       "      <td>0</td>\n",
       "      <td>6</td>\n",
       "      <td>4</td>\n",
       "    </tr>\n",
       "    <tr>\n",
       "      <th>4</th>\n",
       "      <td>215352</td>\n",
       "      <td>Снизилась</td>\n",
       "      <td>стандартт</td>\n",
       "      <td>нет</td>\n",
       "      <td>5.1</td>\n",
       "      <td>3</td>\n",
       "      <td>1064</td>\n",
       "      <td>0.94</td>\n",
       "      <td>Товары для детей</td>\n",
       "      <td>3</td>\n",
       "      <td>2</td>\n",
       "      <td>3</td>\n",
       "      <td>2</td>\n",
       "    </tr>\n",
       "  </tbody>\n",
       "</table>\n",
       "</div>"
      ],
      "text/plain": [
       "       id Покупательская активность Тип сервиса Разрешить сообщать  \\\n",
       "0  215348                 Снизилась     премиум                 да   \n",
       "1  215349                 Снизилась     премиум                 да   \n",
       "2  215350                 Снизилась   стандартт                нет   \n",
       "3  215351                 Снизилась   стандартт                 да   \n",
       "4  215352                 Снизилась   стандартт                нет   \n",
       "\n",
       "   Маркет_актив_6_мес  Маркет_актив_тек_мес  Длительность  Акционные_покупки  \\\n",
       "0                 3.4                     5           121               0.00   \n",
       "1                 4.4                     4           819               0.75   \n",
       "2                 4.9                     3           539               0.14   \n",
       "3                 3.2                     5           896               0.99   \n",
       "4                 5.1                     3          1064               0.94   \n",
       "\n",
       "  Популярная_категория  Средний_просмотр_категорий_за_визит  \\\n",
       "0     Товары для детей                                    6   \n",
       "1     Товары для детей                                    4   \n",
       "2    Домашний текстиль                                    5   \n",
       "3     Товары для детей                                    5   \n",
       "4     Товары для детей                                    3   \n",
       "\n",
       "   Неоплаченные_продукты_штук_квартал  Ошибка_сервиса  Страниц_за_визит  \n",
       "0                                   2               1                 5  \n",
       "1                                   4               2                 5  \n",
       "2                                   2               1                 5  \n",
       "3                                   0               6                 4  \n",
       "4                                   2               3                 2  "
      ]
     },
     "execution_count": 6,
     "metadata": {},
     "output_type": "execute_result"
    }
   ],
   "source": [
    "# импорт датасета market_file\n",
    "path_local_m = 'datasets/market_file.csv'\n",
    "path_hub_m = '/datasets/market_file.csv'\n",
    "\n",
    "if os.path.exists(path_local_m):\n",
    "    market_file = pd.read_csv(path_local_m)\n",
    "elif os.path.exists(path_hub_m):\n",
    "    market_file = pd.read_csv(path_hub_m)\n",
    "else:\n",
    "    print('Ошибка в пути к файлу')\n",
    "\n",
    "market_file.head()"
   ]
  },
  {
   "cell_type": "code",
   "execution_count": 7,
   "id": "dc02bed1",
   "metadata": {},
   "outputs": [
    {
     "data": {
      "text/html": [
       "<div>\n",
       "<style scoped>\n",
       "    .dataframe tbody tr th:only-of-type {\n",
       "        vertical-align: middle;\n",
       "    }\n",
       "\n",
       "    .dataframe tbody tr th {\n",
       "        vertical-align: top;\n",
       "    }\n",
       "\n",
       "    .dataframe thead th {\n",
       "        text-align: right;\n",
       "    }\n",
       "</style>\n",
       "<table border=\"1\" class=\"dataframe\">\n",
       "  <thead>\n",
       "    <tr style=\"text-align: right;\">\n",
       "      <th></th>\n",
       "      <th>id</th>\n",
       "      <th>Период</th>\n",
       "      <th>Выручка</th>\n",
       "    </tr>\n",
       "  </thead>\n",
       "  <tbody>\n",
       "    <tr>\n",
       "      <th>0</th>\n",
       "      <td>215348</td>\n",
       "      <td>препредыдущий_месяц</td>\n",
       "      <td>0.0</td>\n",
       "    </tr>\n",
       "    <tr>\n",
       "      <th>1</th>\n",
       "      <td>215348</td>\n",
       "      <td>текущий_месяц</td>\n",
       "      <td>3293.1</td>\n",
       "    </tr>\n",
       "    <tr>\n",
       "      <th>2</th>\n",
       "      <td>215348</td>\n",
       "      <td>предыдущий_месяц</td>\n",
       "      <td>0.0</td>\n",
       "    </tr>\n",
       "    <tr>\n",
       "      <th>3</th>\n",
       "      <td>215349</td>\n",
       "      <td>препредыдущий_месяц</td>\n",
       "      <td>4472.0</td>\n",
       "    </tr>\n",
       "    <tr>\n",
       "      <th>4</th>\n",
       "      <td>215349</td>\n",
       "      <td>текущий_месяц</td>\n",
       "      <td>4971.6</td>\n",
       "    </tr>\n",
       "  </tbody>\n",
       "</table>\n",
       "</div>"
      ],
      "text/plain": [
       "       id               Период  Выручка\n",
       "0  215348  препредыдущий_месяц      0.0\n",
       "1  215348        текущий_месяц   3293.1\n",
       "2  215348     предыдущий_месяц      0.0\n",
       "3  215349  препредыдущий_месяц   4472.0\n",
       "4  215349        текущий_месяц   4971.6"
      ]
     },
     "execution_count": 7,
     "metadata": {},
     "output_type": "execute_result"
    }
   ],
   "source": [
    "# импорт датасета market_money\n",
    "path_local_m = 'datasets/market_money.csv'\n",
    "path_hub_m = '/datasets/market_money.csv'\n",
    "\n",
    "if os.path.exists(path_local_m):\n",
    "    market_money = pd.read_csv(path_local_m)\n",
    "elif os.path.exists(path_hub_m):\n",
    "    market_money = pd.read_csv(path_hub_m)\n",
    "else:\n",
    "    print('Ошибка в пути к файлу')\n",
    "\n",
    "market_money.head()"
   ]
  },
  {
   "cell_type": "code",
   "execution_count": 8,
   "id": "00ab81fc",
   "metadata": {
    "scrolled": true
   },
   "outputs": [
    {
     "data": {
      "text/html": [
       "<div>\n",
       "<style scoped>\n",
       "    .dataframe tbody tr th:only-of-type {\n",
       "        vertical-align: middle;\n",
       "    }\n",
       "\n",
       "    .dataframe tbody tr th {\n",
       "        vertical-align: top;\n",
       "    }\n",
       "\n",
       "    .dataframe thead th {\n",
       "        text-align: right;\n",
       "    }\n",
       "</style>\n",
       "<table border=\"1\" class=\"dataframe\">\n",
       "  <thead>\n",
       "    <tr style=\"text-align: right;\">\n",
       "      <th></th>\n",
       "      <th>id</th>\n",
       "      <th>Период</th>\n",
       "      <th>минут</th>\n",
       "    </tr>\n",
       "  </thead>\n",
       "  <tbody>\n",
       "    <tr>\n",
       "      <th>0</th>\n",
       "      <td>215348</td>\n",
       "      <td>текущий_месяц</td>\n",
       "      <td>14</td>\n",
       "    </tr>\n",
       "    <tr>\n",
       "      <th>1</th>\n",
       "      <td>215348</td>\n",
       "      <td>предыдцщий_месяц</td>\n",
       "      <td>13</td>\n",
       "    </tr>\n",
       "    <tr>\n",
       "      <th>2</th>\n",
       "      <td>215349</td>\n",
       "      <td>текущий_месяц</td>\n",
       "      <td>10</td>\n",
       "    </tr>\n",
       "    <tr>\n",
       "      <th>3</th>\n",
       "      <td>215349</td>\n",
       "      <td>предыдцщий_месяц</td>\n",
       "      <td>12</td>\n",
       "    </tr>\n",
       "    <tr>\n",
       "      <th>4</th>\n",
       "      <td>215350</td>\n",
       "      <td>текущий_месяц</td>\n",
       "      <td>13</td>\n",
       "    </tr>\n",
       "  </tbody>\n",
       "</table>\n",
       "</div>"
      ],
      "text/plain": [
       "       id            Период  минут\n",
       "0  215348     текущий_месяц     14\n",
       "1  215348  предыдцщий_месяц     13\n",
       "2  215349     текущий_месяц     10\n",
       "3  215349  предыдцщий_месяц     12\n",
       "4  215350     текущий_месяц     13"
      ]
     },
     "execution_count": 8,
     "metadata": {},
     "output_type": "execute_result"
    }
   ],
   "source": [
    "# импорт датасета market_time\n",
    "path_local_m = 'datasets/market_time.csv'\n",
    "path_hub_m = '/datasets/market_time.csv'\n",
    "\n",
    "if os.path.exists(path_local_m):\n",
    "    market_time = pd.read_csv(path_local_m)\n",
    "elif os.path.exists(path_hub_m):\n",
    "    market_time = pd.read_csv(path_hub_m)\n",
    "else:\n",
    "    print('Ошибка в пути к файлу')\n",
    "\n",
    "market_time.head()"
   ]
  },
  {
   "cell_type": "code",
   "execution_count": 9,
   "id": "11d91188",
   "metadata": {},
   "outputs": [
    {
     "data": {
      "text/html": [
       "<div>\n",
       "<style scoped>\n",
       "    .dataframe tbody tr th:only-of-type {\n",
       "        vertical-align: middle;\n",
       "    }\n",
       "\n",
       "    .dataframe tbody tr th {\n",
       "        vertical-align: top;\n",
       "    }\n",
       "\n",
       "    .dataframe thead th {\n",
       "        text-align: right;\n",
       "    }\n",
       "</style>\n",
       "<table border=\"1\" class=\"dataframe\">\n",
       "  <thead>\n",
       "    <tr style=\"text-align: right;\">\n",
       "      <th></th>\n",
       "      <th>id;Прибыль</th>\n",
       "    </tr>\n",
       "  </thead>\n",
       "  <tbody>\n",
       "    <tr>\n",
       "      <th>215348;0</th>\n",
       "      <td>98.0</td>\n",
       "    </tr>\n",
       "    <tr>\n",
       "      <th>215349;4</th>\n",
       "      <td>16.0</td>\n",
       "    </tr>\n",
       "    <tr>\n",
       "      <th>215350;3</th>\n",
       "      <td>13.0</td>\n",
       "    </tr>\n",
       "    <tr>\n",
       "      <th>215351;4</th>\n",
       "      <td>87.0</td>\n",
       "    </tr>\n",
       "    <tr>\n",
       "      <th>215352;4</th>\n",
       "      <td>21.0</td>\n",
       "    </tr>\n",
       "  </tbody>\n",
       "</table>\n",
       "</div>"
      ],
      "text/plain": [
       "          id;Прибыль\n",
       "215348;0        98.0\n",
       "215349;4        16.0\n",
       "215350;3        13.0\n",
       "215351;4        87.0\n",
       "215352;4        21.0"
      ]
     },
     "execution_count": 9,
     "metadata": {},
     "output_type": "execute_result"
    }
   ],
   "source": [
    "# импорт датасета money\n",
    "path_local_m = 'datasets/money.csv'\n",
    "path_hub_m = '/datasets/money.csv'\n",
    "\n",
    "if os.path.exists(path_local_m):\n",
    "    money = pd.read_csv(path_local_m)\n",
    "elif os.path.exists(path_hub_m):\n",
    "    money = pd.read_csv(path_hub_m)\n",
    "else:\n",
    "    print('Ошибка в пути к файлу')\n",
    "\n",
    "money.head()"
   ]
  },
  {
   "cell_type": "markdown",
   "id": "cff3f4da",
   "metadata": {},
   "source": [
    "Датасет `money` не считался корректно из-за неверного разделителя, поэтому исправим это ниже."
   ]
  },
  {
   "cell_type": "code",
   "execution_count": 10,
   "id": "36af5f9c",
   "metadata": {},
   "outputs": [
    {
     "data": {
      "text/html": [
       "<div>\n",
       "<style scoped>\n",
       "    .dataframe tbody tr th:only-of-type {\n",
       "        vertical-align: middle;\n",
       "    }\n",
       "\n",
       "    .dataframe tbody tr th {\n",
       "        vertical-align: top;\n",
       "    }\n",
       "\n",
       "    .dataframe thead th {\n",
       "        text-align: right;\n",
       "    }\n",
       "</style>\n",
       "<table border=\"1\" class=\"dataframe\">\n",
       "  <thead>\n",
       "    <tr style=\"text-align: right;\">\n",
       "      <th></th>\n",
       "      <th>id</th>\n",
       "      <th>Прибыль</th>\n",
       "    </tr>\n",
       "  </thead>\n",
       "  <tbody>\n",
       "    <tr>\n",
       "      <th>0</th>\n",
       "      <td>215348</td>\n",
       "      <td>0,98</td>\n",
       "    </tr>\n",
       "    <tr>\n",
       "      <th>1</th>\n",
       "      <td>215349</td>\n",
       "      <td>4,16</td>\n",
       "    </tr>\n",
       "    <tr>\n",
       "      <th>2</th>\n",
       "      <td>215350</td>\n",
       "      <td>3,13</td>\n",
       "    </tr>\n",
       "    <tr>\n",
       "      <th>3</th>\n",
       "      <td>215351</td>\n",
       "      <td>4,87</td>\n",
       "    </tr>\n",
       "    <tr>\n",
       "      <th>4</th>\n",
       "      <td>215352</td>\n",
       "      <td>4,21</td>\n",
       "    </tr>\n",
       "  </tbody>\n",
       "</table>\n",
       "</div>"
      ],
      "text/plain": [
       "       id Прибыль\n",
       "0  215348    0,98\n",
       "1  215349    4,16\n",
       "2  215350    3,13\n",
       "3  215351    4,87\n",
       "4  215352    4,21"
      ]
     },
     "execution_count": 10,
     "metadata": {},
     "output_type": "execute_result"
    }
   ],
   "source": [
    "# импорт датасета money\n",
    "path_local_m = 'datasets/money.csv'\n",
    "path_hub_m = '/datasets/money.csv'\n",
    "\n",
    "if os.path.exists(path_local_m):\n",
    "    money = pd.read_csv(path_local_m, sep=';')\n",
    "elif os.path.exists(path_hub_m):\n",
    "    money = pd.read_csv(path_hub_m, sep=';')\n",
    "else:\n",
    "    print('Ошибка в пути к файлу')\n",
    "\n",
    "money.head()"
   ]
  },
  {
   "cell_type": "markdown",
   "id": "4fca2943",
   "metadata": {},
   "source": [
    "Мы загрузили 4 датафрейма, теперь изучим их содержимое."
   ]
  },
  {
   "cell_type": "code",
   "execution_count": 11,
   "id": "53006d58",
   "metadata": {},
   "outputs": [],
   "source": [
    "def dataset_overview(dataset):\n",
    "    print(dataset.shape)\n",
    "    dataset.info()"
   ]
  },
  {
   "cell_type": "code",
   "execution_count": 12,
   "id": "9224ebfc",
   "metadata": {},
   "outputs": [
    {
     "name": "stdout",
     "output_type": "stream",
     "text": [
      "(1300, 13)\n",
      "<class 'pandas.core.frame.DataFrame'>\n",
      "RangeIndex: 1300 entries, 0 to 1299\n",
      "Data columns (total 13 columns):\n",
      " #   Column                               Non-Null Count  Dtype  \n",
      "---  ------                               --------------  -----  \n",
      " 0   id                                   1300 non-null   int64  \n",
      " 1   Покупательская активность            1300 non-null   object \n",
      " 2   Тип сервиса                          1300 non-null   object \n",
      " 3   Разрешить сообщать                   1300 non-null   object \n",
      " 4   Маркет_актив_6_мес                   1300 non-null   float64\n",
      " 5   Маркет_актив_тек_мес                 1300 non-null   int64  \n",
      " 6   Длительность                         1300 non-null   int64  \n",
      " 7   Акционные_покупки                    1300 non-null   float64\n",
      " 8   Популярная_категория                 1300 non-null   object \n",
      " 9   Средний_просмотр_категорий_за_визит  1300 non-null   int64  \n",
      " 10  Неоплаченные_продукты_штук_квартал   1300 non-null   int64  \n",
      " 11  Ошибка_сервиса                       1300 non-null   int64  \n",
      " 12  Страниц_за_визит                     1300 non-null   int64  \n",
      "dtypes: float64(2), int64(7), object(4)\n",
      "memory usage: 132.2+ KB\n",
      "(3900, 3)\n",
      "<class 'pandas.core.frame.DataFrame'>\n",
      "RangeIndex: 3900 entries, 0 to 3899\n",
      "Data columns (total 3 columns):\n",
      " #   Column   Non-Null Count  Dtype  \n",
      "---  ------   --------------  -----  \n",
      " 0   id       3900 non-null   int64  \n",
      " 1   Период   3900 non-null   object \n",
      " 2   Выручка  3900 non-null   float64\n",
      "dtypes: float64(1), int64(1), object(1)\n",
      "memory usage: 91.5+ KB\n",
      "(2600, 3)\n",
      "<class 'pandas.core.frame.DataFrame'>\n",
      "RangeIndex: 2600 entries, 0 to 2599\n",
      "Data columns (total 3 columns):\n",
      " #   Column  Non-Null Count  Dtype \n",
      "---  ------  --------------  ----- \n",
      " 0   id      2600 non-null   int64 \n",
      " 1   Период  2600 non-null   object\n",
      " 2   минут   2600 non-null   int64 \n",
      "dtypes: int64(2), object(1)\n",
      "memory usage: 61.1+ KB\n",
      "(1300, 2)\n",
      "<class 'pandas.core.frame.DataFrame'>\n",
      "RangeIndex: 1300 entries, 0 to 1299\n",
      "Data columns (total 2 columns):\n",
      " #   Column   Non-Null Count  Dtype \n",
      "---  ------   --------------  ----- \n",
      " 0   id       1300 non-null   int64 \n",
      " 1   Прибыль  1300 non-null   object\n",
      "dtypes: int64(1), object(1)\n",
      "memory usage: 20.4+ KB\n"
     ]
    }
   ],
   "source": [
    "datasets = [market_file, market_money, market_time, money]\n",
    "\n",
    "for dataset in datasets:\n",
    "    dataset_overview(dataset)"
   ]
  },
  {
   "cell_type": "markdown",
   "id": "cc5e2c61",
   "metadata": {},
   "source": [
    "Данные соответствуют описанию."
   ]
  },
  {
   "cell_type": "markdown",
   "id": "d55b149a",
   "metadata": {},
   "source": [
    "На данном шаге были успешно загружены 4 датасета, а также первично изучены датафреймы на соответствие описанию."
   ]
  },
  {
   "cell_type": "markdown",
   "id": "7b918f8d",
   "metadata": {},
   "source": [
    "## Шаг 2. Предобработка данных"
   ]
  },
  {
   "cell_type": "markdown",
   "id": "7d9ac9b5",
   "metadata": {},
   "source": [
    "Сначала заменим типы данных на корректные: такая предобработка необходима только для числового столбцы `Прибыль` в датафрейме `money`:"
   ]
  },
  {
   "cell_type": "code",
   "execution_count": 13,
   "id": "3ddfaf0c",
   "metadata": {},
   "outputs": [
    {
     "name": "stdout",
     "output_type": "stream",
     "text": [
      "<class 'pandas.core.frame.DataFrame'>\n",
      "RangeIndex: 1300 entries, 0 to 1299\n",
      "Data columns (total 2 columns):\n",
      " #   Column   Non-Null Count  Dtype  \n",
      "---  ------   --------------  -----  \n",
      " 0   id       1300 non-null   int64  \n",
      " 1   Прибыль  1300 non-null   float64\n",
      "dtypes: float64(1), int64(1)\n",
      "memory usage: 20.4 KB\n"
     ]
    }
   ],
   "source": [
    "money['Прибыль'] = money['Прибыль'].str.replace(',', '.').astype(float)\n",
    "money.info()"
   ]
  },
  {
   "cell_type": "markdown",
   "id": "9a25044b",
   "metadata": {},
   "source": [
    "Теперь проверим, есть ли явные дубликаты в данных:"
   ]
  },
  {
   "cell_type": "code",
   "execution_count": 14,
   "id": "5fc1a4f6",
   "metadata": {},
   "outputs": [
    {
     "name": "stdout",
     "output_type": "stream",
     "text": [
      "Help on function remove_dupes in module __main__:\n",
      "\n",
      "remove_dupes(df)\n",
      "    Считает количество явных дубликатов в датасете, выводит на экран их количество и удаляет дубликаты\n",
      "\n"
     ]
    }
   ],
   "source": [
    "help(remove_dupes)"
   ]
  },
  {
   "cell_type": "code",
   "execution_count": 15,
   "id": "1efcd390",
   "metadata": {},
   "outputs": [
    {
     "name": "stdout",
     "output_type": "stream",
     "text": [
      "Изначальный размер датасета (1300, 13)\n",
      "0\n",
      "Итоговый размер датасета (1300, 13)\n",
      "Изначальный размер датасета (3900, 3)\n",
      "0\n",
      "Итоговый размер датасета (3900, 3)\n",
      "Изначальный размер датасета (2600, 3)\n",
      "0\n",
      "Итоговый размер датасета (2600, 3)\n",
      "Изначальный размер датасета (1300, 2)\n",
      "0\n",
      "Итоговый размер датасета (1300, 2)\n"
     ]
    }
   ],
   "source": [
    "for df in datasets:\n",
    "    print('Изначальный размер датасета', df.shape)\n",
    "    df = remove_dupes(df)\n",
    "    print('Итоговый размер датасета', df.shape)"
   ]
  },
  {
   "cell_type": "markdown",
   "id": "f96f75a4",
   "metadata": {},
   "source": [
    "Явных дубликатов нет, поэтому теперь проверим возможные неявные дубликаты в текстовых столбцах:"
   ]
  },
  {
   "cell_type": "code",
   "execution_count": 16,
   "id": "72ff719f",
   "metadata": {
    "scrolled": true
   },
   "outputs": [
    {
     "name": "stdout",
     "output_type": "stream",
     "text": [
      "Покупательская активность\n",
      "Прежний уровень    802\n",
      "Снизилась          498\n",
      "Name: count, dtype: int64\n",
      "Тип сервиса\n",
      "стандарт     914\n",
      "премиум      376\n",
      "стандартт     10\n",
      "Name: count, dtype: int64\n",
      "Разрешить сообщать\n",
      "да     962\n",
      "нет    338\n",
      "Name: count, dtype: int64\n",
      "Популярная_категория\n",
      "Товары для детей                        330\n",
      "Домашний текстиль                       251\n",
      "Косметика и аксесуары                   223\n",
      "Техника для красоты и здоровья          184\n",
      "Мелкая бытовая техника и электроника    174\n",
      "Кухонная посуда                         138\n",
      "Name: count, dtype: int64\n",
      "\n",
      "\n",
      "Период\n",
      "препредыдущий_месяц    1300\n",
      "текущий_месяц          1300\n",
      "предыдущий_месяц       1300\n",
      "Name: count, dtype: int64\n",
      "\n",
      "\n",
      "Период\n",
      "текущий_месяц       1300\n",
      "предыдцщий_месяц    1300\n",
      "Name: count, dtype: int64\n",
      "\n",
      "\n",
      "\n",
      "\n"
     ]
    }
   ],
   "source": [
    "for df in datasets:\n",
    "    find_dupes(df)\n",
    "    print('\\n')"
   ]
  },
  {
   "cell_type": "markdown",
   "id": "325a7814",
   "metadata": {},
   "source": [
    "Заметим, что в данных есть две опечатки:\n",
    "- неявный дубликат в столбце `Тип сервиса` датасета `market_file`: стандарт и стандартт\n",
    "- опечатка в столбце `Период` `market_time`: предыдущий_месяц вместо предыдцщий_месяц"
   ]
  },
  {
   "cell_type": "code",
   "execution_count": 17,
   "id": "f4768bdc",
   "metadata": {},
   "outputs": [
    {
     "data": {
      "text/plain": [
       "Тип сервиса\n",
       "стандарт    924\n",
       "премиум     376\n",
       "Name: count, dtype: int64"
      ]
     },
     "execution_count": 17,
     "metadata": {},
     "output_type": "execute_result"
    }
   ],
   "source": [
    "market_file['Тип сервиса'] = market_file['Тип сервиса'].str.replace('стандартт', 'стандарт')\n",
    "market_file['Тип сервиса'].value_counts(ascending=False)"
   ]
  },
  {
   "cell_type": "code",
   "execution_count": 18,
   "id": "227f200d",
   "metadata": {
    "scrolled": true
   },
   "outputs": [
    {
     "data": {
      "text/plain": [
       "Период\n",
       "текущий_месяц       1300\n",
       "предыдущий_месяц    1300\n",
       "Name: count, dtype: int64"
      ]
     },
     "execution_count": 18,
     "metadata": {},
     "output_type": "execute_result"
    }
   ],
   "source": [
    "market_time['Период'] = market_time['Период'].str.replace('предыдцщий_месяц', 'предыдущий_месяц')\n",
    "market_time['Период'].value_counts(ascending=False)"
   ]
  },
  {
   "cell_type": "markdown",
   "id": "cf93fe93",
   "metadata": {},
   "source": [
    "Пропусков в данных нет"
   ]
  },
  {
   "cell_type": "markdown",
   "id": "77b4780a",
   "metadata": {},
   "source": [
    "На этапе предобработки данных были выявлены и заменены неявные дубликаты в данных, а также данные подготовлены для дальнейшего анализа."
   ]
  },
  {
   "cell_type": "markdown",
   "id": "7fef323b",
   "metadata": {},
   "source": [
    "## Шаг 3. Исследовательский анализ данных"
   ]
  },
  {
   "cell_type": "code",
   "execution_count": 19,
   "id": "ef1aa768",
   "metadata": {},
   "outputs": [],
   "source": [
    "def analyze_cat_columns(df, column, title):\n",
    "    df.groupby(column)['id'].count().plot(kind='bar', \n",
    "                                  color='mediumseagreen', \n",
    "                                  edgecolor='gray',\n",
    "                                  title=title)\n",
    "    plt.show()\n",
    "    \n",
    "    print(df[column].value_counts(normalize=True))\n",
    "    \n",
    "    print(df[column].value_counts())"
   ]
  },
  {
   "cell_type": "code",
   "execution_count": 20,
   "id": "c2d4e9bc",
   "metadata": {},
   "outputs": [
    {
     "name": "stdout",
     "output_type": "stream",
     "text": [
      "Index(['Покупательская активность', 'Тип сервиса', 'Разрешить сообщать',\n",
      "       'Популярная_категория'],\n",
      "      dtype='object')\n"
     ]
    }
   ],
   "source": [
    "cat_columns = market_file.select_dtypes(exclude=['number']).columns\n",
    "\n",
    "print(cat_columns)"
   ]
  },
  {
   "cell_type": "code",
   "execution_count": 21,
   "id": "b9b4a18c",
   "metadata": {
    "scrolled": false
   },
   "outputs": [
    {
     "data": {
      "image/png": "[encoded data removed]",
      "text/plain": [
       "<Figure size 432x288 with 1 Axes>"
      ]
     },
     "metadata": {
      "needs_background": "light"
     },
     "output_type": "display_data"
    },
    {
     "name": "stdout",
     "output_type": "stream",
     "text": [
      "Покупательская активность\n",
      "Прежний уровень    0.616923\n",
      "Снизилась          0.383077\n",
      "Name: proportion, dtype: float64\n",
      "Покупательская активность\n",
      "Прежний уровень    802\n",
      "Снизилась          498\n",
      "Name: count, dtype: int64\n"
     ]
    },
    {
     "data": {
      "image/png": "[encoded data removed]",
      "text/plain": [
       "<Figure size 432x288 with 1 Axes>"
      ]
     },
     "metadata": {
      "needs_background": "light"
     },
     "output_type": "display_data"
    },
    {
     "name": "stdout",
     "output_type": "stream",
     "text": [
      "Тип сервиса\n",
      "стандарт    0.710769\n",
      "премиум     0.289231\n",
      "Name: proportion, dtype: float64\n",
      "Тип сервиса\n",
      "стандарт    924\n",
      "премиум     376\n",
      "Name: count, dtype: int64\n"
     ]
    },
    {
     "data": {
      "image/png": "[encoded data removed]",
      "text/plain": [
       "<Figure size 432x288 with 1 Axes>"
      ]
     },
     "metadata": {
      "needs_background": "light"
     },
     "output_type": "display_data"
    },
    {
     "name": "stdout",
     "output_type": "stream",
     "text": [
      "Разрешить сообщать\n",
      "да     0.74\n",
      "нет    0.26\n",
      "Name: proportion, dtype: float64\n",
      "Разрешить сообщать\n",
      "да     962\n",
      "нет    338\n",
      "Name: count, dtype: int64\n"
     ]
    },
    {
     "data": {
      "image/png": "[encoded data removed]",
      "text/plain": [
       "<Figure size 432x288 with 1 Axes>"
      ]
     },
     "metadata": {
      "needs_background": "light"
     },
     "output_type": "display_data"
    },
    {
     "name": "stdout",
     "output_type": "stream",
     "text": [
      "Популярная_категория\n",
      "Товары для детей                        0.253846\n",
      "Домашний текстиль                       0.193077\n",
      "Косметика и аксесуары                   0.171538\n",
      "Техника для красоты и здоровья          0.141538\n",
      "Мелкая бытовая техника и электроника    0.133846\n",
      "Кухонная посуда                         0.106154\n",
      "Name: proportion, dtype: float64\n",
      "Популярная_категория\n",
      "Товары для детей                        330\n",
      "Домашний текстиль                       251\n",
      "Косметика и аксесуары                   223\n",
      "Техника для красоты и здоровья          184\n",
      "Мелкая бытовая техника и электроника    174\n",
      "Кухонная посуда                         138\n",
      "Name: count, dtype: int64\n"
     ]
    }
   ],
   "source": [
    "cat_columns = market_file.select_dtypes(exclude=['number']).columns\n",
    "\n",
    "titles = ['Распределение пользователей по покупательской активности',\n",
    "          'Распределение пользователей по типам сервиса',\n",
    "          'Распределение пользователей по возможности сообщать',\n",
    "          'Распределение пользователей по популярным категориям']\n",
    "\n",
    "column_title_map = dict(zip(cat_columns, titles))\n",
    "\n",
    "for column in cat_columns:\n",
    "    title = column_title_map[column]\n",
    "    analyze_cat_columns(market_file, column, title)"
   ]
  },
  {
   "cell_type": "markdown",
   "id": "bef0b5f3",
   "metadata": {},
   "source": [
    "По результатам анализа категориальных признаков, можно сделать следующие выводы о пользователях:\n",
    "- У 62% пользователей покупательская активность сохранилась на прежнем уровне, а у 38% - снизилась\n",
    "- 71% пользователей пользуются стандартным сервисом, а оставшиеся 29% - премиальным\n",
    "- 74% пользователей дали согласие на то, чтобы присылать дополнительные предложения о товаре\n",
    "- Наиболее популярной категорией является \"Товары для детей\" (25%), наименее популярной - Кухонная посуда (11%)"
   ]
  },
  {
   "cell_type": "markdown",
   "id": "cd24f1b1",
   "metadata": {},
   "source": [
    "Теперь проанализируем количественные признаки в датасете `market_file`: посмотрим на описательную статистику датасета в целом, построим гистограмму и ящик с усами."
   ]
  },
  {
   "cell_type": "code",
   "execution_count": 22,
   "id": "2bacd7df",
   "metadata": {},
   "outputs": [
    {
     "data": {
      "text/html": [
       "<div>\n",
       "<style scoped>\n",
       "    .dataframe tbody tr th:only-of-type {\n",
       "        vertical-align: middle;\n",
       "    }\n",
       "\n",
       "    .dataframe tbody tr th {\n",
       "        vertical-align: top;\n",
       "    }\n",
       "\n",
       "    .dataframe thead th {\n",
       "        text-align: right;\n",
       "    }\n",
       "</style>\n",
       "<table border=\"1\" class=\"dataframe\">\n",
       "  <thead>\n",
       "    <tr style=\"text-align: right;\">\n",
       "      <th></th>\n",
       "      <th>count</th>\n",
       "      <th>mean</th>\n",
       "      <th>std</th>\n",
       "      <th>min</th>\n",
       "      <th>25%</th>\n",
       "      <th>50%</th>\n",
       "      <th>75%</th>\n",
       "      <th>max</th>\n",
       "    </tr>\n",
       "  </thead>\n",
       "  <tbody>\n",
       "    <tr>\n",
       "      <th>id</th>\n",
       "      <td>1300.0</td>\n",
       "      <td>215997.500000</td>\n",
       "      <td>375.421985</td>\n",
       "      <td>215348.0</td>\n",
       "      <td>215672.75</td>\n",
       "      <td>215997.50</td>\n",
       "      <td>216322.25</td>\n",
       "      <td>216647.00</td>\n",
       "    </tr>\n",
       "    <tr>\n",
       "      <th>Маркет_актив_6_мес</th>\n",
       "      <td>1300.0</td>\n",
       "      <td>4.253769</td>\n",
       "      <td>1.014814</td>\n",
       "      <td>0.9</td>\n",
       "      <td>3.70</td>\n",
       "      <td>4.20</td>\n",
       "      <td>4.90</td>\n",
       "      <td>6.60</td>\n",
       "    </tr>\n",
       "    <tr>\n",
       "      <th>Маркет_актив_тек_мес</th>\n",
       "      <td>1300.0</td>\n",
       "      <td>4.011538</td>\n",
       "      <td>0.696868</td>\n",
       "      <td>3.0</td>\n",
       "      <td>4.00</td>\n",
       "      <td>4.00</td>\n",
       "      <td>4.00</td>\n",
       "      <td>5.00</td>\n",
       "    </tr>\n",
       "    <tr>\n",
       "      <th>Длительность</th>\n",
       "      <td>1300.0</td>\n",
       "      <td>601.898462</td>\n",
       "      <td>249.856289</td>\n",
       "      <td>110.0</td>\n",
       "      <td>405.50</td>\n",
       "      <td>606.00</td>\n",
       "      <td>806.00</td>\n",
       "      <td>1079.00</td>\n",
       "    </tr>\n",
       "    <tr>\n",
       "      <th>Акционные_покупки</th>\n",
       "      <td>1300.0</td>\n",
       "      <td>0.319808</td>\n",
       "      <td>0.249843</td>\n",
       "      <td>0.0</td>\n",
       "      <td>0.17</td>\n",
       "      <td>0.24</td>\n",
       "      <td>0.30</td>\n",
       "      <td>0.99</td>\n",
       "    </tr>\n",
       "    <tr>\n",
       "      <th>Средний_просмотр_категорий_за_визит</th>\n",
       "      <td>1300.0</td>\n",
       "      <td>3.270000</td>\n",
       "      <td>1.355350</td>\n",
       "      <td>1.0</td>\n",
       "      <td>2.00</td>\n",
       "      <td>3.00</td>\n",
       "      <td>4.00</td>\n",
       "      <td>6.00</td>\n",
       "    </tr>\n",
       "    <tr>\n",
       "      <th>Неоплаченные_продукты_штук_квартал</th>\n",
       "      <td>1300.0</td>\n",
       "      <td>2.840000</td>\n",
       "      <td>1.971451</td>\n",
       "      <td>0.0</td>\n",
       "      <td>1.00</td>\n",
       "      <td>3.00</td>\n",
       "      <td>4.00</td>\n",
       "      <td>10.00</td>\n",
       "    </tr>\n",
       "    <tr>\n",
       "      <th>Ошибка_сервиса</th>\n",
       "      <td>1300.0</td>\n",
       "      <td>4.185385</td>\n",
       "      <td>1.955298</td>\n",
       "      <td>0.0</td>\n",
       "      <td>3.00</td>\n",
       "      <td>4.00</td>\n",
       "      <td>6.00</td>\n",
       "      <td>9.00</td>\n",
       "    </tr>\n",
       "    <tr>\n",
       "      <th>Страниц_за_визит</th>\n",
       "      <td>1300.0</td>\n",
       "      <td>8.176923</td>\n",
       "      <td>3.978126</td>\n",
       "      <td>1.0</td>\n",
       "      <td>5.00</td>\n",
       "      <td>8.00</td>\n",
       "      <td>11.00</td>\n",
       "      <td>20.00</td>\n",
       "    </tr>\n",
       "  </tbody>\n",
       "</table>\n",
       "</div>"
      ],
      "text/plain": [
       "                                      count           mean         std  \\\n",
       "id                                   1300.0  215997.500000  375.421985   \n",
       "Маркет_актив_6_мес                   1300.0       4.253769    1.014814   \n",
       "Маркет_актив_тек_мес                 1300.0       4.011538    0.696868   \n",
       "Длительность                         1300.0     601.898462  249.856289   \n",
       "Акционные_покупки                    1300.0       0.319808    0.249843   \n",
       "Средний_просмотр_категорий_за_визит  1300.0       3.270000    1.355350   \n",
       "Неоплаченные_продукты_штук_квартал   1300.0       2.840000    1.971451   \n",
       "Ошибка_сервиса                       1300.0       4.185385    1.955298   \n",
       "Страниц_за_визит                     1300.0       8.176923    3.978126   \n",
       "\n",
       "                                          min        25%        50%  \\\n",
       "id                                   215348.0  215672.75  215997.50   \n",
       "Маркет_актив_6_мес                        0.9       3.70       4.20   \n",
       "Маркет_актив_тек_мес                      3.0       4.00       4.00   \n",
       "Длительность                            110.0     405.50     606.00   \n",
       "Акционные_покупки                         0.0       0.17       0.24   \n",
       "Средний_просмотр_категорий_за_визит       1.0       2.00       3.00   \n",
       "Неоплаченные_продукты_штук_квартал        0.0       1.00       3.00   \n",
       "Ошибка_сервиса                            0.0       3.00       4.00   \n",
       "Страниц_за_визит                          1.0       5.00       8.00   \n",
       "\n",
       "                                           75%        max  \n",
       "id                                   216322.25  216647.00  \n",
       "Маркет_актив_6_мес                        4.90       6.60  \n",
       "Маркет_актив_тек_мес                      4.00       5.00  \n",
       "Длительность                            806.00    1079.00  \n",
       "Акционные_покупки                         0.30       0.99  \n",
       "Средний_просмотр_категорий_за_визит       4.00       6.00  \n",
       "Неоплаченные_продукты_штук_квартал        4.00      10.00  \n",
       "Ошибка_сервиса                            6.00       9.00  \n",
       "Страниц_за_визит                         11.00      20.00  "
      ]
     },
     "execution_count": 22,
     "metadata": {},
     "output_type": "execute_result"
    }
   ],
   "source": [
    "market_file.describe().T"
   ]
  },
  {
   "cell_type": "code",
   "execution_count": 23,
   "id": "c8fbc9d3",
   "metadata": {},
   "outputs": [],
   "source": [
    "def analyze_num_columns(df, column):\n",
    "    df.hist(column=column, color='mediumseagreen', bins=20)\n",
    "    plt.show()\n",
    "    \n",
    "    print('\\n')\n",
    "    df.boxplot(column=column)\n",
    "    plt.show()"
   ]
  },
  {
   "cell_type": "code",
   "execution_count": 24,
   "id": "ffb8d419",
   "metadata": {},
   "outputs": [
    {
     "data": {
      "image/png": "[encoded data removed]",
      "text/plain": [
       "<Figure size 432x288 with 1 Axes>"
      ]
     },
     "metadata": {
      "needs_background": "light"
     },
     "output_type": "display_data"
    },
    {
     "name": "stdout",
     "output_type": "stream",
     "text": [
      "\n",
      "\n"
     ]
    },
    {
     "data": {
      "image/png": "[encoded data removed]",
      "text/plain": [
       "<Figure size 432x288 with 1 Axes>"
      ]
     },
     "metadata": {
      "needs_background": "light"
     },
     "output_type": "display_data"
    },
    {
     "data": {
      "image/png": "[encoded data removed]",
      "text/plain": [
       "<Figure size 432x288 with 1 Axes>"
      ]
     },
     "metadata": {
      "needs_background": "light"
     },
     "output_type": "display_data"
    },
    {
     "name": "stdout",
     "output_type": "stream",
     "text": [
      "\n",
      "\n"
     ]
    },
    {
     "data": {
      "image/png": "[encoded data removed]",
      "text/plain": [
       "<Figure size 432x288 with 1 Axes>"
      ]
     },
     "metadata": {
      "needs_background": "light"
     },
     "output_type": "display_data"
    },
    {
     "data": {
      "image/png": "[encoded data removed]",
      "text/plain": [
       "<Figure size 432x288 with 1 Axes>"
      ]
     },
     "metadata": {
      "needs_background": "light"
     },
     "output_type": "display_data"
    },
    {
     "name": "stdout",
     "output_type": "stream",
     "text": [
      "\n",
      "\n"
     ]
    },
    {
     "data": {
      "image/png": "[encoded data removed]",
      "text/plain": [
       "<Figure size 432x288 with 1 Axes>"
      ]
     },
     "metadata": {
      "needs_background": "light"
     },
     "output_type": "display_data"
    },
    {
     "data": {
      "image/png": "[encoded data removed]",
      "text/plain": [
       "<Figure size 432x288 with 1 Axes>"
      ]
     },
     "metadata": {
      "needs_background": "light"
     },
     "output_type": "display_data"
    },
    {
     "name": "stdout",
     "output_type": "stream",
     "text": [
      "\n",
      "\n"
     ]
    },
    {
     "data": {
      "image/png": "[encoded data removed]",
      "text/plain": [
       "<Figure size 432x288 with 1 Axes>"
      ]
     },
     "metadata": {
      "needs_background": "light"
     },
     "output_type": "display_data"
    },
    {
     "data": {
      "image/png": "[encoded data removed]",
      "text/plain": [
       "<Figure size 432x288 with 1 Axes>"
      ]
     },
     "metadata": {
      "needs_background": "light"
     },
     "output_type": "display_data"
    },
    {
     "name": "stdout",
     "output_type": "stream",
     "text": [
      "\n",
      "\n"
     ]
    },
    {
     "data": {
      "image/png": "[encoded data removed]",
      "text/plain": [
       "<Figure size 432x288 with 1 Axes>"
      ]
     },
     "metadata": {
      "needs_background": "light"
     },
     "output_type": "display_data"
    },
    {
     "data": {
      "image/png": "[encoded data removed]",
      "text/plain": [
       "<Figure size 432x288 with 1 Axes>"
      ]
     },
     "metadata": {
      "needs_background": "light"
     },
     "output_type": "display_data"
    },
    {
     "name": "stdout",
     "output_type": "stream",
     "text": [
      "\n",
      "\n"
     ]
    },
    {
     "data": {
      "image/png": "[encoded data removed]",
      "text/plain": [
       "<Figure size 432x288 with 1 Axes>"
      ]
     },
     "metadata": {
      "needs_background": "light"
     },
     "output_type": "display_data"
    },
    {
     "data": {
      "image/png": "[encoded data removed]",
      "text/plain": [
       "<Figure size 432x288 with 1 Axes>"
      ]
     },
     "metadata": {
      "needs_background": "light"
     },
     "output_type": "display_data"
    },
    {
     "name": "stdout",
     "output_type": "stream",
     "text": [
      "\n",
      "\n"
     ]
    },
    {
     "data": {
      "image/png": "[encoded data removed]",
      "text/plain": [
       "<Figure size 432x288 with 1 Axes>"
      ]
     },
     "metadata": {
      "needs_background": "light"
     },
     "output_type": "display_data"
    },
    {
     "data": {
      "image/png": "[encoded data removed]",
      "text/plain": [
       "<Figure size 432x288 with 1 Axes>"
      ]
     },
     "metadata": {
      "needs_background": "light"
     },
     "output_type": "display_data"
    },
    {
     "name": "stdout",
     "output_type": "stream",
     "text": [
      "\n",
      "\n"
     ]
    },
    {
     "data": {
      "image/png": "[encoded data removed]",
      "text/plain": [
       "<Figure size 432x288 with 1 Axes>"
      ]
     },
     "metadata": {
      "needs_background": "light"
     },
     "output_type": "display_data"
    }
   ],
   "source": [
    "num_columns = market_file.select_dtypes(include=['number']).columns\n",
    "num_columns = num_columns[num_columns != 'id']\n",
    "\n",
    "for column in num_columns:\n",
    "    analyze_num_columns(market_file, column)"
   ]
  },
  {
   "cell_type": "markdown",
   "id": "476e7367",
   "metadata": {},
   "source": [
    "Анализ количественных признаков показал следующее:\n",
    "- В среднем пользователи имеют 4.25 маркетинговых коммуникаций в месяц за последние 6 месяцев, на гистограмме выделяется группа пользователей с низким уровнем коммуникаций, а также 4 пика для пользователей, имеющих более 2 коммуникаций в месяц\n",
    "- За последний месяц пользователи имеют в среднем 4 коммуникации, распределение дискретное, то есть возможно только 3 варианта: 3, 4 или 5 коммуникаций за последний месяц\n",
    "- В среднем пользователи зарегистрированы 606 дней на сайте (почти 2 года!), минимальное количество дней с момента регистрации - 110, максимальное - 1079\n",
    "- Наблюдаются два типа пользователей по взаимодействию с акциями: пользователи, иногда покупающие акционные товары, и пользователи, которые в основном покупают продукты по акции. На гистограмме это видно по двум пикам\n",
    "- В среднем пользователи просматривают 3.27 категорий за один визит\n",
    "- В среднем за квартал пользователи не оплачивают 2.84 товаров\n",
    "- Распределение ошибок сервиса близко к нормальному со средним 4.2 сбоев за посещение\n",
    "- В среднем пользователи посещают 8.2 страниц за визит"
   ]
  },
  {
   "cell_type": "markdown",
   "id": "9cfa5bf8",
   "metadata": {},
   "source": [
    "Теперь рассмотрим оставшиеся три датасета."
   ]
  },
  {
   "cell_type": "code",
   "execution_count": 25,
   "id": "77d70f5b",
   "metadata": {
    "scrolled": true
   },
   "outputs": [
    {
     "data": {
      "image/png": "[encoded data removed]",
      "text/plain": [
       "<Figure size 432x288 with 1 Axes>"
      ]
     },
     "metadata": {
      "needs_background": "light"
     },
     "output_type": "display_data"
    },
    {
     "name": "stdout",
     "output_type": "stream",
     "text": [
      "\n",
      "\n"
     ]
    },
    {
     "data": {
      "image/png": "[encoded data removed]",
      "text/plain": [
       "<Figure size 432x288 with 1 Axes>"
      ]
     },
     "metadata": {
      "needs_background": "light"
     },
     "output_type": "display_data"
    }
   ],
   "source": [
    "analyze_num_columns(market_money.query('Период == \"текущий_месяц\"'), \"Выручка\")"
   ]
  },
  {
   "cell_type": "markdown",
   "id": "84a9497c",
   "metadata": {},
   "source": [
    "Заметим, что в данных есть выброс: пользователь, который потратил в текущем месяце более 100000 рублей. Такое возможно, однако, это может повлиять на качество модели, поэтому уберем из данных пользователя."
   ]
  },
  {
   "cell_type": "code",
   "execution_count": 26,
   "id": "27dc54ac",
   "metadata": {},
   "outputs": [],
   "source": [
    "anomaly = market_money[market_money[\"Выручка\"] > 100000]['id'].unique()"
   ]
  },
  {
   "cell_type": "code",
   "execution_count": 27,
   "id": "5e04c52c",
   "metadata": {},
   "outputs": [],
   "source": [
    "market_money = market_money[~market_money['id'].isin(anomaly)]\n",
    "market_file = market_file[~market_file['id'].isin(anomaly)]\n",
    "market_time = market_time[~market_time['id'].isin(anomaly)]\n",
    "money = money[~money['id'].isin(anomaly)]"
   ]
  },
  {
   "cell_type": "code",
   "execution_count": 28,
   "id": "b95bb75d",
   "metadata": {},
   "outputs": [
    {
     "data": {
      "image/png": "[encoded data removed]",
      "text/plain": [
       "<Figure size 432x288 with 1 Axes>"
      ]
     },
     "metadata": {
      "needs_background": "light"
     },
     "output_type": "display_data"
    },
    {
     "name": "stdout",
     "output_type": "stream",
     "text": [
      "\n",
      "\n"
     ]
    },
    {
     "data": {
      "image/png": "[encoded data removed]",
      "text/plain": [
       "<Figure size 432x288 with 1 Axes>"
      ]
     },
     "metadata": {
      "needs_background": "light"
     },
     "output_type": "display_data"
    }
   ],
   "source": [
    "analyze_num_columns(market_money.query('Период == \"текущий_месяц\"'), \"Выручка\")"
   ]
  },
  {
   "cell_type": "markdown",
   "id": "a8095575",
   "metadata": {},
   "source": [
    "Заметим, что распределение выручки близко к нормальному, с пиком около 5000 рублей в месяц."
   ]
  },
  {
   "cell_type": "markdown",
   "id": "45f5aa3f",
   "metadata": {},
   "source": [
    "Проанализируем данные за предыдущий месяц и препредыдущий:"
   ]
  },
  {
   "cell_type": "code",
   "execution_count": 29,
   "id": "9f7ab7e9",
   "metadata": {},
   "outputs": [
    {
     "data": {
      "image/png": "[encoded data removed]",
      "text/plain": [
       "<Figure size 432x288 with 1 Axes>"
      ]
     },
     "metadata": {
      "needs_background": "light"
     },
     "output_type": "display_data"
    },
    {
     "name": "stdout",
     "output_type": "stream",
     "text": [
      "\n",
      "\n"
     ]
    },
    {
     "data": {
      "image/png": "[encoded data removed]",
      "text/plain": [
       "<Figure size 432x288 with 1 Axes>"
      ]
     },
     "metadata": {
      "needs_background": "light"
     },
     "output_type": "display_data"
    }
   ],
   "source": [
    "analyze_num_columns(market_money.query('Период == \"предыдущий_месяц\"'), \"Выручка\")"
   ]
  },
  {
   "cell_type": "code",
   "execution_count": 30,
   "id": "2fd72183",
   "metadata": {},
   "outputs": [
    {
     "data": {
      "text/html": [
       "<div>\n",
       "<style scoped>\n",
       "    .dataframe tbody tr th:only-of-type {\n",
       "        vertical-align: middle;\n",
       "    }\n",
       "\n",
       "    .dataframe tbody tr th {\n",
       "        vertical-align: top;\n",
       "    }\n",
       "\n",
       "    .dataframe thead th {\n",
       "        text-align: right;\n",
       "    }\n",
       "</style>\n",
       "<table border=\"1\" class=\"dataframe\">\n",
       "  <thead>\n",
       "    <tr style=\"text-align: right;\">\n",
       "      <th></th>\n",
       "      <th>id</th>\n",
       "      <th>Выручка</th>\n",
       "    </tr>\n",
       "  </thead>\n",
       "  <tbody>\n",
       "    <tr>\n",
       "      <th>count</th>\n",
       "      <td>1299.000000</td>\n",
       "      <td>1299.000000</td>\n",
       "    </tr>\n",
       "    <tr>\n",
       "      <th>mean</th>\n",
       "      <td>215997.975366</td>\n",
       "      <td>4936.042725</td>\n",
       "    </tr>\n",
       "    <tr>\n",
       "      <th>std</th>\n",
       "      <td>375.174972</td>\n",
       "      <td>739.205300</td>\n",
       "    </tr>\n",
       "    <tr>\n",
       "      <th>min</th>\n",
       "      <td>215348.000000</td>\n",
       "      <td>0.000000</td>\n",
       "    </tr>\n",
       "    <tr>\n",
       "      <th>25%</th>\n",
       "      <td>215673.500000</td>\n",
       "      <td>4496.500000</td>\n",
       "    </tr>\n",
       "    <tr>\n",
       "      <th>50%</th>\n",
       "      <td>215998.000000</td>\n",
       "      <td>5004.500000</td>\n",
       "    </tr>\n",
       "    <tr>\n",
       "      <th>75%</th>\n",
       "      <td>216322.500000</td>\n",
       "      <td>5404.250000</td>\n",
       "    </tr>\n",
       "    <tr>\n",
       "      <th>max</th>\n",
       "      <td>216647.000000</td>\n",
       "      <td>6869.500000</td>\n",
       "    </tr>\n",
       "  </tbody>\n",
       "</table>\n",
       "</div>"
      ],
      "text/plain": [
       "                  id      Выручка\n",
       "count    1299.000000  1299.000000\n",
       "mean   215997.975366  4936.042725\n",
       "std       375.174972   739.205300\n",
       "min    215348.000000     0.000000\n",
       "25%    215673.500000  4496.500000\n",
       "50%    215998.000000  5004.500000\n",
       "75%    216322.500000  5404.250000\n",
       "max    216647.000000  6869.500000"
      ]
     },
     "execution_count": 30,
     "metadata": {},
     "output_type": "execute_result"
    }
   ],
   "source": [
    "market_money.query('Период == \"предыдущий_месяц\"').describe()"
   ]
  },
  {
   "cell_type": "markdown",
   "id": "1dcb3000",
   "metadata": {},
   "source": [
    "В данных есть аномалия - прибыль на сумму 0 рублей. Во всем остальном распределение прибыли близко к нормальному."
   ]
  },
  {
   "cell_type": "code",
   "execution_count": 31,
   "id": "e1e22fdf",
   "metadata": {
    "scrolled": true
   },
   "outputs": [
    {
     "data": {
      "text/html": [
       "<div>\n",
       "<style scoped>\n",
       "    .dataframe tbody tr th:only-of-type {\n",
       "        vertical-align: middle;\n",
       "    }\n",
       "\n",
       "    .dataframe tbody tr th {\n",
       "        vertical-align: top;\n",
       "    }\n",
       "\n",
       "    .dataframe thead th {\n",
       "        text-align: right;\n",
       "    }\n",
       "</style>\n",
       "<table border=\"1\" class=\"dataframe\">\n",
       "  <thead>\n",
       "    <tr style=\"text-align: right;\">\n",
       "      <th></th>\n",
       "      <th>id</th>\n",
       "      <th>Период</th>\n",
       "      <th>Выручка</th>\n",
       "    </tr>\n",
       "  </thead>\n",
       "  <tbody>\n",
       "    <tr>\n",
       "      <th>0</th>\n",
       "      <td>215348</td>\n",
       "      <td>препредыдущий_месяц</td>\n",
       "      <td>0.0</td>\n",
       "    </tr>\n",
       "    <tr>\n",
       "      <th>2</th>\n",
       "      <td>215348</td>\n",
       "      <td>предыдущий_месяц</td>\n",
       "      <td>0.0</td>\n",
       "    </tr>\n",
       "    <tr>\n",
       "      <th>28</th>\n",
       "      <td>215357</td>\n",
       "      <td>препредыдущий_месяц</td>\n",
       "      <td>0.0</td>\n",
       "    </tr>\n",
       "    <tr>\n",
       "      <th>29</th>\n",
       "      <td>215357</td>\n",
       "      <td>предыдущий_месяц</td>\n",
       "      <td>0.0</td>\n",
       "    </tr>\n",
       "    <tr>\n",
       "      <th>34</th>\n",
       "      <td>215359</td>\n",
       "      <td>предыдущий_месяц</td>\n",
       "      <td>0.0</td>\n",
       "    </tr>\n",
       "    <tr>\n",
       "      <th>35</th>\n",
       "      <td>215359</td>\n",
       "      <td>препредыдущий_месяц</td>\n",
       "      <td>0.0</td>\n",
       "    </tr>\n",
       "  </tbody>\n",
       "</table>\n",
       "</div>"
      ],
      "text/plain": [
       "        id               Период  Выручка\n",
       "0   215348  препредыдущий_месяц      0.0\n",
       "2   215348     предыдущий_месяц      0.0\n",
       "28  215357  препредыдущий_месяц      0.0\n",
       "29  215357     предыдущий_месяц      0.0\n",
       "34  215359     предыдущий_месяц      0.0\n",
       "35  215359  препредыдущий_месяц      0.0"
      ]
     },
     "execution_count": 31,
     "metadata": {},
     "output_type": "execute_result"
    }
   ],
   "source": [
    "market_money.query('Выручка == 0')"
   ]
  },
  {
   "cell_type": "markdown",
   "id": "219e170a",
   "metadata": {},
   "source": [
    "Таких пользователей 3, скорее всего, это пользователи, которые недавно начали совершать покупки, поэтому прибыль от них равна нулю."
   ]
  },
  {
   "cell_type": "code",
   "execution_count": 32,
   "id": "9b7445ca",
   "metadata": {},
   "outputs": [
    {
     "data": {
      "image/png": "[encoded data removed]",
      "text/plain": [
       "<Figure size 432x288 with 1 Axes>"
      ]
     },
     "metadata": {
      "needs_background": "light"
     },
     "output_type": "display_data"
    },
    {
     "name": "stdout",
     "output_type": "stream",
     "text": [
      "\n",
      "\n"
     ]
    },
    {
     "data": {
      "image/png": "[encoded data removed]",
      "text/plain": [
       "<Figure size 432x288 with 1 Axes>"
      ]
     },
     "metadata": {
      "needs_background": "light"
     },
     "output_type": "display_data"
    }
   ],
   "source": [
    "analyze_num_columns(market_money.query('Период == \"препредыдущий_месяц\"'), \"Выручка\")"
   ]
  },
  {
   "cell_type": "markdown",
   "id": "9de79ee5",
   "metadata": {},
   "source": [
    "За препредыдущий месяц гистограмма идентична, также есть пользователи, которые принесли нулевую выручку."
   ]
  },
  {
   "cell_type": "markdown",
   "id": "6492bb10",
   "metadata": {},
   "source": [
    "Теперь рассмотрим таким же образом данные о времени проведенном на сайте:"
   ]
  },
  {
   "cell_type": "code",
   "execution_count": 33,
   "id": "acba58e1",
   "metadata": {},
   "outputs": [
    {
     "data": {
      "text/html": [
       "<div>\n",
       "<style scoped>\n",
       "    .dataframe tbody tr th:only-of-type {\n",
       "        vertical-align: middle;\n",
       "    }\n",
       "\n",
       "    .dataframe tbody tr th {\n",
       "        vertical-align: top;\n",
       "    }\n",
       "\n",
       "    .dataframe thead th {\n",
       "        text-align: right;\n",
       "    }\n",
       "</style>\n",
       "<table border=\"1\" class=\"dataframe\">\n",
       "  <thead>\n",
       "    <tr style=\"text-align: right;\">\n",
       "      <th></th>\n",
       "      <th>id</th>\n",
       "      <th>минут</th>\n",
       "    </tr>\n",
       "  </thead>\n",
       "  <tbody>\n",
       "    <tr>\n",
       "      <th>count</th>\n",
       "      <td>1299.000000</td>\n",
       "      <td>1299.000000</td>\n",
       "    </tr>\n",
       "    <tr>\n",
       "      <th>mean</th>\n",
       "      <td>215997.975366</td>\n",
       "      <td>13.204003</td>\n",
       "    </tr>\n",
       "    <tr>\n",
       "      <th>std</th>\n",
       "      <td>375.174972</td>\n",
       "      <td>4.222157</td>\n",
       "    </tr>\n",
       "    <tr>\n",
       "      <th>min</th>\n",
       "      <td>215348.000000</td>\n",
       "      <td>4.000000</td>\n",
       "    </tr>\n",
       "    <tr>\n",
       "      <th>25%</th>\n",
       "      <td>215673.500000</td>\n",
       "      <td>10.000000</td>\n",
       "    </tr>\n",
       "    <tr>\n",
       "      <th>50%</th>\n",
       "      <td>215998.000000</td>\n",
       "      <td>13.000000</td>\n",
       "    </tr>\n",
       "    <tr>\n",
       "      <th>75%</th>\n",
       "      <td>216322.500000</td>\n",
       "      <td>16.000000</td>\n",
       "    </tr>\n",
       "    <tr>\n",
       "      <th>max</th>\n",
       "      <td>216647.000000</td>\n",
       "      <td>23.000000</td>\n",
       "    </tr>\n",
       "  </tbody>\n",
       "</table>\n",
       "</div>"
      ],
      "text/plain": [
       "                  id        минут\n",
       "count    1299.000000  1299.000000\n",
       "mean   215997.975366    13.204003\n",
       "std       375.174972     4.222157\n",
       "min    215348.000000     4.000000\n",
       "25%    215673.500000    10.000000\n",
       "50%    215998.000000    13.000000\n",
       "75%    216322.500000    16.000000\n",
       "max    216647.000000    23.000000"
      ]
     },
     "execution_count": 33,
     "metadata": {},
     "output_type": "execute_result"
    }
   ],
   "source": [
    "market_time.query('Период == \"текущий_месяц\"').describe()"
   ]
  },
  {
   "cell_type": "code",
   "execution_count": 34,
   "id": "68f7592d",
   "metadata": {
    "scrolled": true
   },
   "outputs": [
    {
     "data": {
      "image/png": "[encoded data removed]",
      "text/plain": [
       "<Figure size 432x288 with 1 Axes>"
      ]
     },
     "metadata": {
      "needs_background": "light"
     },
     "output_type": "display_data"
    },
    {
     "name": "stdout",
     "output_type": "stream",
     "text": [
      "\n",
      "\n"
     ]
    },
    {
     "data": {
      "image/png": "[encoded data removed]",
      "text/plain": [
       "<Figure size 432x288 with 1 Axes>"
      ]
     },
     "metadata": {
      "needs_background": "light"
     },
     "output_type": "display_data"
    }
   ],
   "source": [
    "analyze_num_columns(market_time.query('Период == \"текущий_месяц\"'), \"минут\")"
   ]
  },
  {
   "cell_type": "markdown",
   "id": "5280ca45",
   "metadata": {},
   "source": [
    "Распределение имеет форму колокола, минимальное время на сайте - 4 минуты, максимально - 23 минуты, среднее время - 13.2 минуты."
   ]
  },
  {
   "cell_type": "code",
   "execution_count": 35,
   "id": "379f13e5",
   "metadata": {},
   "outputs": [
    {
     "data": {
      "text/html": [
       "<div>\n",
       "<style scoped>\n",
       "    .dataframe tbody tr th:only-of-type {\n",
       "        vertical-align: middle;\n",
       "    }\n",
       "\n",
       "    .dataframe tbody tr th {\n",
       "        vertical-align: top;\n",
       "    }\n",
       "\n",
       "    .dataframe thead th {\n",
       "        text-align: right;\n",
       "    }\n",
       "</style>\n",
       "<table border=\"1\" class=\"dataframe\">\n",
       "  <thead>\n",
       "    <tr style=\"text-align: right;\">\n",
       "      <th></th>\n",
       "      <th>id</th>\n",
       "      <th>минут</th>\n",
       "    </tr>\n",
       "  </thead>\n",
       "  <tbody>\n",
       "    <tr>\n",
       "      <th>count</th>\n",
       "      <td>1299.000000</td>\n",
       "      <td>1299.000000</td>\n",
       "    </tr>\n",
       "    <tr>\n",
       "      <th>mean</th>\n",
       "      <td>215997.975366</td>\n",
       "      <td>13.468822</td>\n",
       "    </tr>\n",
       "    <tr>\n",
       "      <th>std</th>\n",
       "      <td>375.174972</td>\n",
       "      <td>3.933332</td>\n",
       "    </tr>\n",
       "    <tr>\n",
       "      <th>min</th>\n",
       "      <td>215348.000000</td>\n",
       "      <td>5.000000</td>\n",
       "    </tr>\n",
       "    <tr>\n",
       "      <th>25%</th>\n",
       "      <td>215673.500000</td>\n",
       "      <td>11.000000</td>\n",
       "    </tr>\n",
       "    <tr>\n",
       "      <th>50%</th>\n",
       "      <td>215998.000000</td>\n",
       "      <td>13.000000</td>\n",
       "    </tr>\n",
       "    <tr>\n",
       "      <th>75%</th>\n",
       "      <td>216322.500000</td>\n",
       "      <td>17.000000</td>\n",
       "    </tr>\n",
       "    <tr>\n",
       "      <th>max</th>\n",
       "      <td>216647.000000</td>\n",
       "      <td>23.000000</td>\n",
       "    </tr>\n",
       "  </tbody>\n",
       "</table>\n",
       "</div>"
      ],
      "text/plain": [
       "                  id        минут\n",
       "count    1299.000000  1299.000000\n",
       "mean   215997.975366    13.468822\n",
       "std       375.174972     3.933332\n",
       "min    215348.000000     5.000000\n",
       "25%    215673.500000    11.000000\n",
       "50%    215998.000000    13.000000\n",
       "75%    216322.500000    17.000000\n",
       "max    216647.000000    23.000000"
      ]
     },
     "execution_count": 35,
     "metadata": {},
     "output_type": "execute_result"
    }
   ],
   "source": [
    "market_time.query('Период == \"предыдущий_месяц\"').describe()"
   ]
  },
  {
   "cell_type": "code",
   "execution_count": 36,
   "id": "96a908e3",
   "metadata": {},
   "outputs": [
    {
     "data": {
      "image/png": "[encoded data removed]",
      "text/plain": [
       "<Figure size 432x288 with 1 Axes>"
      ]
     },
     "metadata": {
      "needs_background": "light"
     },
     "output_type": "display_data"
    },
    {
     "name": "stdout",
     "output_type": "stream",
     "text": [
      "\n",
      "\n"
     ]
    },
    {
     "data": {
      "image/png": "[encoded data removed]",
      "text/plain": [
       "<Figure size 432x288 with 1 Axes>"
      ]
     },
     "metadata": {
      "needs_background": "light"
     },
     "output_type": "display_data"
    }
   ],
   "source": [
    "analyze_num_columns(market_time.query('Период == \"предыдущий_месяц\"'), \"минут\")"
   ]
  },
  {
   "cell_type": "markdown",
   "id": "586b293d",
   "metadata": {},
   "source": [
    "Распределение также имеет форму колокола. Единственная аномалия - отсутствие пользователей, которые провели на сайте от 13 до 14 минут."
   ]
  },
  {
   "cell_type": "markdown",
   "id": "45d44950",
   "metadata": {},
   "source": [
    "Наконец, проанализируем среднемесячную прибыль за последние 3 месяца:"
   ]
  },
  {
   "cell_type": "code",
   "execution_count": 37,
   "id": "fef0d57b",
   "metadata": {},
   "outputs": [
    {
     "data": {
      "text/html": [
       "<div>\n",
       "<style scoped>\n",
       "    .dataframe tbody tr th:only-of-type {\n",
       "        vertical-align: middle;\n",
       "    }\n",
       "\n",
       "    .dataframe tbody tr th {\n",
       "        vertical-align: top;\n",
       "    }\n",
       "\n",
       "    .dataframe thead th {\n",
       "        text-align: right;\n",
       "    }\n",
       "</style>\n",
       "<table border=\"1\" class=\"dataframe\">\n",
       "  <thead>\n",
       "    <tr style=\"text-align: right;\">\n",
       "      <th></th>\n",
       "      <th>id</th>\n",
       "      <th>Прибыль</th>\n",
       "    </tr>\n",
       "  </thead>\n",
       "  <tbody>\n",
       "    <tr>\n",
       "      <th>count</th>\n",
       "      <td>1299.000000</td>\n",
       "      <td>1299.000000</td>\n",
       "    </tr>\n",
       "    <tr>\n",
       "      <th>mean</th>\n",
       "      <td>215997.975366</td>\n",
       "      <td>3.996721</td>\n",
       "    </tr>\n",
       "    <tr>\n",
       "      <th>std</th>\n",
       "      <td>375.174972</td>\n",
       "      <td>1.014107</td>\n",
       "    </tr>\n",
       "    <tr>\n",
       "      <th>min</th>\n",
       "      <td>215348.000000</td>\n",
       "      <td>0.860000</td>\n",
       "    </tr>\n",
       "    <tr>\n",
       "      <th>25%</th>\n",
       "      <td>215673.500000</td>\n",
       "      <td>3.300000</td>\n",
       "    </tr>\n",
       "    <tr>\n",
       "      <th>50%</th>\n",
       "      <td>215998.000000</td>\n",
       "      <td>4.050000</td>\n",
       "    </tr>\n",
       "    <tr>\n",
       "      <th>75%</th>\n",
       "      <td>216322.500000</td>\n",
       "      <td>4.670000</td>\n",
       "    </tr>\n",
       "    <tr>\n",
       "      <th>max</th>\n",
       "      <td>216647.000000</td>\n",
       "      <td>7.430000</td>\n",
       "    </tr>\n",
       "  </tbody>\n",
       "</table>\n",
       "</div>"
      ],
      "text/plain": [
       "                  id      Прибыль\n",
       "count    1299.000000  1299.000000\n",
       "mean   215997.975366     3.996721\n",
       "std       375.174972     1.014107\n",
       "min    215348.000000     0.860000\n",
       "25%    215673.500000     3.300000\n",
       "50%    215998.000000     4.050000\n",
       "75%    216322.500000     4.670000\n",
       "max    216647.000000     7.430000"
      ]
     },
     "execution_count": 37,
     "metadata": {},
     "output_type": "execute_result"
    }
   ],
   "source": [
    "money.describe()"
   ]
  },
  {
   "cell_type": "code",
   "execution_count": 38,
   "id": "efb4b440",
   "metadata": {},
   "outputs": [
    {
     "data": {
      "image/png": "[encoded data removed]",
      "text/plain": [
       "<Figure size 432x288 with 1 Axes>"
      ]
     },
     "metadata": {
      "needs_background": "light"
     },
     "output_type": "display_data"
    },
    {
     "name": "stdout",
     "output_type": "stream",
     "text": [
      "\n",
      "\n"
     ]
    },
    {
     "data": {
      "image/png": "[encoded data removed]",
      "text/plain": [
       "<Figure size 432x288 with 1 Axes>"
      ]
     },
     "metadata": {
      "needs_background": "light"
     },
     "output_type": "display_data"
    }
   ],
   "source": [
    "analyze_num_columns(money, \"Прибыль\")"
   ]
  },
  {
   "cell_type": "markdown",
   "id": "edcd20e1",
   "metadata": {},
   "source": [
    "Прибыль также имеет распределение в форме колокола, со средним значением 4."
   ]
  },
  {
   "cell_type": "markdown",
   "id": "f3c1fcce",
   "metadata": {},
   "source": [
    "Теперь выберем тех покупателей, у которых была покупательская активность за последние 3 месяца."
   ]
  },
  {
   "cell_type": "code",
   "execution_count": 39,
   "id": "6c930a2a",
   "metadata": {},
   "outputs": [
    {
     "data": {
      "text/plain": [
       "(3888, 3)"
      ]
     },
     "execution_count": 39,
     "metadata": {},
     "output_type": "execute_result"
    }
   ],
   "source": [
    "valid_ids = market_money.groupby('id').filter(lambda x: (x['Выручка'] > 0).all())['id'].unique()\n",
    "\n",
    "market_money = market_money[market_money['id'].isin(valid_ids)]\n",
    "\n",
    "market_money.shape"
   ]
  },
  {
   "cell_type": "markdown",
   "id": "39ff71ba",
   "metadata": {},
   "source": [
    "С помощью кода выше мы оставили только тех покупателей, которые совершали покупки в течение последних трех месяцев."
   ]
  },
  {
   "cell_type": "markdown",
   "id": "0a23cdcd",
   "metadata": {},
   "source": [
    "На этапе исследовательского анализа данных:\n",
    "- были изучены категориальные и количественные признаки во всех датасетах\n",
    "- выделены возможные аномалии в данных\n",
    "- выбраны только те пользователи, которые совершали покупки в течение последних трех месяцев."
   ]
  },
  {
   "cell_type": "markdown",
   "id": "f52012b8",
   "metadata": {},
   "source": [
    "## Шаг 4. Объединение таблиц"
   ]
  },
  {
   "cell_type": "markdown",
   "id": "6f8b93d5",
   "metadata": {},
   "source": [
    "На этом шаге мы объединим три датафрейма: `market_file`, `market_money`, `market_time`:\n",
    "- сначала преобразуем датасеты `market_money` и `market_time` из \"длинной\" формы в \"широкую\"\n",
    "- выделим только тех пользователей во всех датасетах, которые совершали \n",
    "- объединим все три датасета"
   ]
  },
  {
   "cell_type": "code",
   "execution_count": 40,
   "id": "6a69ce28",
   "metadata": {},
   "outputs": [
    {
     "data": {
      "text/html": [
       "<div>\n",
       "<style scoped>\n",
       "    .dataframe tbody tr th:only-of-type {\n",
       "        vertical-align: middle;\n",
       "    }\n",
       "\n",
       "    .dataframe tbody tr th {\n",
       "        vertical-align: top;\n",
       "    }\n",
       "\n",
       "    .dataframe thead th {\n",
       "        text-align: right;\n",
       "    }\n",
       "</style>\n",
       "<table border=\"1\" class=\"dataframe\">\n",
       "  <thead>\n",
       "    <tr style=\"text-align: right;\">\n",
       "      <th></th>\n",
       "      <th>id</th>\n",
       "      <th>предыдущий_месяц_выручка</th>\n",
       "      <th>препредыдущий_месяц_выручка</th>\n",
       "      <th>текущий_месяц_выручка</th>\n",
       "    </tr>\n",
       "  </thead>\n",
       "  <tbody>\n",
       "    <tr>\n",
       "      <th>0</th>\n",
       "      <td>215349</td>\n",
       "      <td>5216.0</td>\n",
       "      <td>4472.0</td>\n",
       "      <td>4971.6</td>\n",
       "    </tr>\n",
       "    <tr>\n",
       "      <th>1</th>\n",
       "      <td>215350</td>\n",
       "      <td>5457.5</td>\n",
       "      <td>4826.0</td>\n",
       "      <td>5058.4</td>\n",
       "    </tr>\n",
       "    <tr>\n",
       "      <th>2</th>\n",
       "      <td>215351</td>\n",
       "      <td>6158.0</td>\n",
       "      <td>4793.0</td>\n",
       "      <td>6610.4</td>\n",
       "    </tr>\n",
       "    <tr>\n",
       "      <th>3</th>\n",
       "      <td>215352</td>\n",
       "      <td>5807.5</td>\n",
       "      <td>4594.0</td>\n",
       "      <td>5872.5</td>\n",
       "    </tr>\n",
       "    <tr>\n",
       "      <th>4</th>\n",
       "      <td>215353</td>\n",
       "      <td>4738.5</td>\n",
       "      <td>5124.0</td>\n",
       "      <td>5388.5</td>\n",
       "    </tr>\n",
       "  </tbody>\n",
       "</table>\n",
       "</div>"
      ],
      "text/plain": [
       "       id  предыдущий_месяц_выручка  препредыдущий_месяц_выручка  \\\n",
       "0  215349                    5216.0                       4472.0   \n",
       "1  215350                    5457.5                       4826.0   \n",
       "2  215351                    6158.0                       4793.0   \n",
       "3  215352                    5807.5                       4594.0   \n",
       "4  215353                    4738.5                       5124.0   \n",
       "\n",
       "   текущий_месяц_выручка  \n",
       "0                 4971.6  \n",
       "1                 5058.4  \n",
       "2                 6610.4  \n",
       "3                 5872.5  \n",
       "4                 5388.5  "
      ]
     },
     "execution_count": 40,
     "metadata": {},
     "output_type": "execute_result"
    }
   ],
   "source": [
    "market_money = market_money.pivot(index='id', columns='Период', values='Выручка')\n",
    "market_money = market_money.reset_index()\n",
    "market_money.columns = ['id', 'предыдущий_месяц_выручка', 'препредыдущий_месяц_выручка', 'текущий_месяц_выручка']\n",
    "market_money.head()"
   ]
  },
  {
   "cell_type": "code",
   "execution_count": 41,
   "id": "fbaaf36f",
   "metadata": {},
   "outputs": [
    {
     "data": {
      "text/html": [
       "<div>\n",
       "<style scoped>\n",
       "    .dataframe tbody tr th:only-of-type {\n",
       "        vertical-align: middle;\n",
       "    }\n",
       "\n",
       "    .dataframe tbody tr th {\n",
       "        vertical-align: top;\n",
       "    }\n",
       "\n",
       "    .dataframe thead th {\n",
       "        text-align: right;\n",
       "    }\n",
       "</style>\n",
       "<table border=\"1\" class=\"dataframe\">\n",
       "  <thead>\n",
       "    <tr style=\"text-align: right;\">\n",
       "      <th></th>\n",
       "      <th>id</th>\n",
       "      <th>предыдущий_месяц_минут</th>\n",
       "      <th>текущий_месяц_минут</th>\n",
       "    </tr>\n",
       "  </thead>\n",
       "  <tbody>\n",
       "    <tr>\n",
       "      <th>0</th>\n",
       "      <td>215348</td>\n",
       "      <td>13</td>\n",
       "      <td>14</td>\n",
       "    </tr>\n",
       "    <tr>\n",
       "      <th>1</th>\n",
       "      <td>215349</td>\n",
       "      <td>12</td>\n",
       "      <td>10</td>\n",
       "    </tr>\n",
       "    <tr>\n",
       "      <th>2</th>\n",
       "      <td>215350</td>\n",
       "      <td>8</td>\n",
       "      <td>13</td>\n",
       "    </tr>\n",
       "    <tr>\n",
       "      <th>3</th>\n",
       "      <td>215351</td>\n",
       "      <td>11</td>\n",
       "      <td>13</td>\n",
       "    </tr>\n",
       "    <tr>\n",
       "      <th>4</th>\n",
       "      <td>215352</td>\n",
       "      <td>8</td>\n",
       "      <td>11</td>\n",
       "    </tr>\n",
       "  </tbody>\n",
       "</table>\n",
       "</div>"
      ],
      "text/plain": [
       "       id  предыдущий_месяц_минут  текущий_месяц_минут\n",
       "0  215348                      13                   14\n",
       "1  215349                      12                   10\n",
       "2  215350                       8                   13\n",
       "3  215351                      11                   13\n",
       "4  215352                       8                   11"
      ]
     },
     "execution_count": 41,
     "metadata": {},
     "output_type": "execute_result"
    }
   ],
   "source": [
    "market_time = market_time.pivot(index='id', columns='Период', values='минут')\n",
    "market_time = market_time.reset_index()\n",
    "market_time.columns = ['id', 'предыдущий_месяц_минут', 'текущий_месяц_минут']\n",
    "market_time.head()"
   ]
  },
  {
   "cell_type": "code",
   "execution_count": 42,
   "id": "f63a2560",
   "metadata": {},
   "outputs": [
    {
     "name": "stdout",
     "output_type": "stream",
     "text": [
      "(1296, 3)\n",
      "(1296, 13)\n"
     ]
    }
   ],
   "source": [
    "market_time = market_time[market_time['id'].isin(valid_ids)]\n",
    "market_file = market_file[market_file['id'].isin(valid_ids)]\n",
    "\n",
    "print(market_time.shape)\n",
    "print(market_file.shape)"
   ]
  },
  {
   "cell_type": "code",
   "execution_count": 43,
   "id": "2bdd114c",
   "metadata": {},
   "outputs": [
    {
     "name": "stdout",
     "output_type": "stream",
     "text": [
      "(1296, 18)\n"
     ]
    },
    {
     "data": {
      "text/html": [
       "<div>\n",
       "<style scoped>\n",
       "    .dataframe tbody tr th:only-of-type {\n",
       "        vertical-align: middle;\n",
       "    }\n",
       "\n",
       "    .dataframe tbody tr th {\n",
       "        vertical-align: top;\n",
       "    }\n",
       "\n",
       "    .dataframe thead th {\n",
       "        text-align: right;\n",
       "    }\n",
       "</style>\n",
       "<table border=\"1\" class=\"dataframe\">\n",
       "  <thead>\n",
       "    <tr style=\"text-align: right;\">\n",
       "      <th></th>\n",
       "      <th>id</th>\n",
       "      <th>Покупательская активность</th>\n",
       "      <th>Тип сервиса</th>\n",
       "      <th>Разрешить сообщать</th>\n",
       "      <th>Маркет_актив_6_мес</th>\n",
       "      <th>Маркет_актив_тек_мес</th>\n",
       "      <th>Длительность</th>\n",
       "      <th>Акционные_покупки</th>\n",
       "      <th>Популярная_категория</th>\n",
       "      <th>Средний_просмотр_категорий_за_визит</th>\n",
       "      <th>Неоплаченные_продукты_штук_квартал</th>\n",
       "      <th>Ошибка_сервиса</th>\n",
       "      <th>Страниц_за_визит</th>\n",
       "      <th>предыдущий_месяц_выручка</th>\n",
       "      <th>препредыдущий_месяц_выручка</th>\n",
       "      <th>текущий_месяц_выручка</th>\n",
       "      <th>предыдущий_месяц_минут</th>\n",
       "      <th>текущий_месяц_минут</th>\n",
       "    </tr>\n",
       "  </thead>\n",
       "  <tbody>\n",
       "    <tr>\n",
       "      <th>0</th>\n",
       "      <td>215349</td>\n",
       "      <td>Снизилась</td>\n",
       "      <td>премиум</td>\n",
       "      <td>да</td>\n",
       "      <td>4.4</td>\n",
       "      <td>4</td>\n",
       "      <td>819</td>\n",
       "      <td>0.75</td>\n",
       "      <td>Товары для детей</td>\n",
       "      <td>4</td>\n",
       "      <td>4</td>\n",
       "      <td>2</td>\n",
       "      <td>5</td>\n",
       "      <td>5216.0</td>\n",
       "      <td>4472.0</td>\n",
       "      <td>4971.6</td>\n",
       "      <td>12</td>\n",
       "      <td>10</td>\n",
       "    </tr>\n",
       "    <tr>\n",
       "      <th>1</th>\n",
       "      <td>215350</td>\n",
       "      <td>Снизилась</td>\n",
       "      <td>стандарт</td>\n",
       "      <td>нет</td>\n",
       "      <td>4.9</td>\n",
       "      <td>3</td>\n",
       "      <td>539</td>\n",
       "      <td>0.14</td>\n",
       "      <td>Домашний текстиль</td>\n",
       "      <td>5</td>\n",
       "      <td>2</td>\n",
       "      <td>1</td>\n",
       "      <td>5</td>\n",
       "      <td>5457.5</td>\n",
       "      <td>4826.0</td>\n",
       "      <td>5058.4</td>\n",
       "      <td>8</td>\n",
       "      <td>13</td>\n",
       "    </tr>\n",
       "    <tr>\n",
       "      <th>2</th>\n",
       "      <td>215351</td>\n",
       "      <td>Снизилась</td>\n",
       "      <td>стандарт</td>\n",
       "      <td>да</td>\n",
       "      <td>3.2</td>\n",
       "      <td>5</td>\n",
       "      <td>896</td>\n",
       "      <td>0.99</td>\n",
       "      <td>Товары для детей</td>\n",
       "      <td>5</td>\n",
       "      <td>0</td>\n",
       "      <td>6</td>\n",
       "      <td>4</td>\n",
       "      <td>6158.0</td>\n",
       "      <td>4793.0</td>\n",
       "      <td>6610.4</td>\n",
       "      <td>11</td>\n",
       "      <td>13</td>\n",
       "    </tr>\n",
       "    <tr>\n",
       "      <th>3</th>\n",
       "      <td>215352</td>\n",
       "      <td>Снизилась</td>\n",
       "      <td>стандарт</td>\n",
       "      <td>нет</td>\n",
       "      <td>5.1</td>\n",
       "      <td>3</td>\n",
       "      <td>1064</td>\n",
       "      <td>0.94</td>\n",
       "      <td>Товары для детей</td>\n",
       "      <td>3</td>\n",
       "      <td>2</td>\n",
       "      <td>3</td>\n",
       "      <td>2</td>\n",
       "      <td>5807.5</td>\n",
       "      <td>4594.0</td>\n",
       "      <td>5872.5</td>\n",
       "      <td>8</td>\n",
       "      <td>11</td>\n",
       "    </tr>\n",
       "    <tr>\n",
       "      <th>4</th>\n",
       "      <td>215353</td>\n",
       "      <td>Снизилась</td>\n",
       "      <td>стандарт</td>\n",
       "      <td>да</td>\n",
       "      <td>3.3</td>\n",
       "      <td>4</td>\n",
       "      <td>762</td>\n",
       "      <td>0.26</td>\n",
       "      <td>Домашний текстиль</td>\n",
       "      <td>4</td>\n",
       "      <td>1</td>\n",
       "      <td>1</td>\n",
       "      <td>4</td>\n",
       "      <td>4738.5</td>\n",
       "      <td>5124.0</td>\n",
       "      <td>5388.5</td>\n",
       "      <td>10</td>\n",
       "      <td>10</td>\n",
       "    </tr>\n",
       "  </tbody>\n",
       "</table>\n",
       "</div>"
      ],
      "text/plain": [
       "       id Покупательская активность Тип сервиса Разрешить сообщать  \\\n",
       "0  215349                 Снизилась     премиум                 да   \n",
       "1  215350                 Снизилась    стандарт                нет   \n",
       "2  215351                 Снизилась    стандарт                 да   \n",
       "3  215352                 Снизилась    стандарт                нет   \n",
       "4  215353                 Снизилась    стандарт                 да   \n",
       "\n",
       "   Маркет_актив_6_мес  Маркет_актив_тек_мес  Длительность  Акционные_покупки  \\\n",
       "0                 4.4                     4           819               0.75   \n",
       "1                 4.9                     3           539               0.14   \n",
       "2                 3.2                     5           896               0.99   \n",
       "3                 5.1                     3          1064               0.94   \n",
       "4                 3.3                     4           762               0.26   \n",
       "\n",
       "  Популярная_категория  Средний_просмотр_категорий_за_визит  \\\n",
       "0     Товары для детей                                    4   \n",
       "1    Домашний текстиль                                    5   \n",
       "2     Товары для детей                                    5   \n",
       "3     Товары для детей                                    3   \n",
       "4    Домашний текстиль                                    4   \n",
       "\n",
       "   Неоплаченные_продукты_штук_квартал  Ошибка_сервиса  Страниц_за_визит  \\\n",
       "0                                   4               2                 5   \n",
       "1                                   2               1                 5   \n",
       "2                                   0               6                 4   \n",
       "3                                   2               3                 2   \n",
       "4                                   1               1                 4   \n",
       "\n",
       "   предыдущий_месяц_выручка  препредыдущий_месяц_выручка  \\\n",
       "0                    5216.0                       4472.0   \n",
       "1                    5457.5                       4826.0   \n",
       "2                    6158.0                       4793.0   \n",
       "3                    5807.5                       4594.0   \n",
       "4                    4738.5                       5124.0   \n",
       "\n",
       "   текущий_месяц_выручка  предыдущий_месяц_минут  текущий_месяц_минут  \n",
       "0                 4971.6                      12                   10  \n",
       "1                 5058.4                       8                   13  \n",
       "2                 6610.4                      11                   13  \n",
       "3                 5872.5                       8                   11  \n",
       "4                 5388.5                      10                   10  "
      ]
     },
     "execution_count": 43,
     "metadata": {},
     "output_type": "execute_result"
    }
   ],
   "source": [
    "merged_data = pd.merge(market_file, market_money, on='id', how='inner')\n",
    "data = pd.merge(merged_data, market_time, on='id', how='inner')\n",
    "print(data.shape)\n",
    "data.head()"
   ]
  },
  {
   "cell_type": "markdown",
   "id": "1dc47a07",
   "metadata": {},
   "source": [
    "## Шаг 5. Корреляционный анализ"
   ]
  },
  {
   "cell_type": "code",
   "execution_count": 44,
   "id": "059a703c",
   "metadata": {},
   "outputs": [
    {
     "data": {
      "image/png": "[encoded data removed]",
      "text/plain": [
       "<Figure size 576x432 with 2 Axes>"
      ]
     },
     "metadata": {
      "needs_background": "light"
     },
     "output_type": "display_data"
    }
   ],
   "source": [
    "num_col_names = data.select_dtypes(include='number').columns.drop('id').tolist()\n",
    "\n",
    "plt.figure(figsize=(8, 6))\n",
    "sns.heatmap(data[num_col_names].corr(method='spearman'), annot=True, fmt='.2f', cmap='coolwarm') \n",
    "\n",
    "plt.show()"
   ]
  },
  {
   "cell_type": "code",
   "execution_count": 45,
   "id": "7ffe7f7e",
   "metadata": {},
   "outputs": [
    {
     "name": "stdout",
     "output_type": "stream",
     "text": [
      "interval columns not set, guessing: ['Маркет_актив_6_мес', 'Маркет_актив_тек_мес', 'Длительность', 'Акционные_покупки', 'Средний_просмотр_категорий_за_визит', 'Неоплаченные_продукты_штук_квартал', 'Ошибка_сервиса', 'Страниц_за_визит', 'предыдущий_месяц_выручка', 'препредыдущий_месяц_выручка', 'текущий_месяц_выручка', 'предыдущий_месяц_минут', 'текущий_месяц_минут']\n"
     ]
    },
    {
     "data": {
      "text/html": [
       "<div>\n",
       "<style scoped>\n",
       "    .dataframe tbody tr th:only-of-type {\n",
       "        vertical-align: middle;\n",
       "    }\n",
       "\n",
       "    .dataframe tbody tr th {\n",
       "        vertical-align: top;\n",
       "    }\n",
       "\n",
       "    .dataframe thead th {\n",
       "        text-align: right;\n",
       "    }\n",
       "</style>\n",
       "<table border=\"1\" class=\"dataframe\">\n",
       "  <thead>\n",
       "    <tr style=\"text-align: right;\">\n",
       "      <th></th>\n",
       "      <th>Покупательская активность</th>\n",
       "      <th>Тип сервиса</th>\n",
       "      <th>Разрешить сообщать</th>\n",
       "      <th>Маркет_актив_6_мес</th>\n",
       "      <th>Маркет_актив_тек_мес</th>\n",
       "      <th>Длительность</th>\n",
       "      <th>Акционные_покупки</th>\n",
       "      <th>Популярная_категория</th>\n",
       "      <th>Средний_просмотр_категорий_за_визит</th>\n",
       "      <th>Неоплаченные_продукты_штук_квартал</th>\n",
       "      <th>Ошибка_сервиса</th>\n",
       "      <th>Страниц_за_визит</th>\n",
       "      <th>предыдущий_месяц_выручка</th>\n",
       "      <th>препредыдущий_месяц_выручка</th>\n",
       "      <th>текущий_месяц_выручка</th>\n",
       "      <th>предыдущий_месяц_минут</th>\n",
       "      <th>текущий_месяц_минут</th>\n",
       "    </tr>\n",
       "  </thead>\n",
       "  <tbody>\n",
       "    <tr>\n",
       "      <th>Покупательская активность</th>\n",
       "      <td>1.000000</td>\n",
       "      <td>0.129940</td>\n",
       "      <td>0.000000</td>\n",
       "      <td>0.544831</td>\n",
       "      <td>0.000000</td>\n",
       "      <td>0.099901</td>\n",
       "      <td>0.506276</td>\n",
       "      <td>0.299717</td>\n",
       "      <td>0.539607</td>\n",
       "      <td>0.505655</td>\n",
       "      <td>0.224154</td>\n",
       "      <td>0.749888</td>\n",
       "      <td>0.224638</td>\n",
       "      <td>0.497393</td>\n",
       "      <td>0.197213</td>\n",
       "      <td>0.685138</td>\n",
       "      <td>0.576770</td>\n",
       "    </tr>\n",
       "    <tr>\n",
       "      <th>Тип сервиса</th>\n",
       "      <td>0.129940</td>\n",
       "      <td>1.000000</td>\n",
       "      <td>0.289965</td>\n",
       "      <td>0.089911</td>\n",
       "      <td>0.045258</td>\n",
       "      <td>0.401411</td>\n",
       "      <td>0.030010</td>\n",
       "      <td>0.070809</td>\n",
       "      <td>0.185391</td>\n",
       "      <td>0.120027</td>\n",
       "      <td>0.079515</td>\n",
       "      <td>0.102594</td>\n",
       "      <td>0.000000</td>\n",
       "      <td>0.069704</td>\n",
       "      <td>0.124216</td>\n",
       "      <td>0.131814</td>\n",
       "      <td>0.000000</td>\n",
       "    </tr>\n",
       "    <tr>\n",
       "      <th>Разрешить сообщать</th>\n",
       "      <td>0.000000</td>\n",
       "      <td>0.289965</td>\n",
       "      <td>1.000000</td>\n",
       "      <td>0.000000</td>\n",
       "      <td>0.052618</td>\n",
       "      <td>0.253831</td>\n",
       "      <td>0.012198</td>\n",
       "      <td>0.073684</td>\n",
       "      <td>0.070359</td>\n",
       "      <td>0.195982</td>\n",
       "      <td>0.021839</td>\n",
       "      <td>0.042134</td>\n",
       "      <td>0.080842</td>\n",
       "      <td>0.000000</td>\n",
       "      <td>0.060907</td>\n",
       "      <td>0.038387</td>\n",
       "      <td>0.000000</td>\n",
       "    </tr>\n",
       "    <tr>\n",
       "      <th>Маркет_актив_6_мес</th>\n",
       "      <td>0.544831</td>\n",
       "      <td>0.089911</td>\n",
       "      <td>0.000000</td>\n",
       "      <td>1.000000</td>\n",
       "      <td>0.079854</td>\n",
       "      <td>0.000000</td>\n",
       "      <td>0.279553</td>\n",
       "      <td>0.150386</td>\n",
       "      <td>0.206788</td>\n",
       "      <td>0.289421</td>\n",
       "      <td>0.142401</td>\n",
       "      <td>0.396769</td>\n",
       "      <td>0.155476</td>\n",
       "      <td>0.315331</td>\n",
       "      <td>0.039795</td>\n",
       "      <td>0.363950</td>\n",
       "      <td>0.330601</td>\n",
       "    </tr>\n",
       "    <tr>\n",
       "      <th>Маркет_актив_тек_мес</th>\n",
       "      <td>0.000000</td>\n",
       "      <td>0.045258</td>\n",
       "      <td>0.052618</td>\n",
       "      <td>0.079854</td>\n",
       "      <td>1.000000</td>\n",
       "      <td>0.174233</td>\n",
       "      <td>0.000000</td>\n",
       "      <td>0.136243</td>\n",
       "      <td>0.246633</td>\n",
       "      <td>0.144203</td>\n",
       "      <td>0.116946</td>\n",
       "      <td>0.000000</td>\n",
       "      <td>0.051824</td>\n",
       "      <td>0.000000</td>\n",
       "      <td>0.000000</td>\n",
       "      <td>0.107945</td>\n",
       "      <td>0.061410</td>\n",
       "    </tr>\n",
       "    <tr>\n",
       "      <th>Длительность</th>\n",
       "      <td>0.099901</td>\n",
       "      <td>0.401411</td>\n",
       "      <td>0.253831</td>\n",
       "      <td>0.000000</td>\n",
       "      <td>0.174233</td>\n",
       "      <td>1.000000</td>\n",
       "      <td>0.000000</td>\n",
       "      <td>0.000000</td>\n",
       "      <td>0.186795</td>\n",
       "      <td>0.192611</td>\n",
       "      <td>0.175608</td>\n",
       "      <td>0.122495</td>\n",
       "      <td>0.125572</td>\n",
       "      <td>0.113200</td>\n",
       "      <td>0.147048</td>\n",
       "      <td>0.026448</td>\n",
       "      <td>0.101481</td>\n",
       "    </tr>\n",
       "    <tr>\n",
       "      <th>Акционные_покупки</th>\n",
       "      <td>0.506276</td>\n",
       "      <td>0.030010</td>\n",
       "      <td>0.012198</td>\n",
       "      <td>0.279553</td>\n",
       "      <td>0.000000</td>\n",
       "      <td>0.000000</td>\n",
       "      <td>1.000000</td>\n",
       "      <td>0.122385</td>\n",
       "      <td>0.199180</td>\n",
       "      <td>0.237962</td>\n",
       "      <td>0.000000</td>\n",
       "      <td>0.311418</td>\n",
       "      <td>0.060733</td>\n",
       "      <td>0.226381</td>\n",
       "      <td>0.071094</td>\n",
       "      <td>0.262324</td>\n",
       "      <td>0.250558</td>\n",
       "    </tr>\n",
       "    <tr>\n",
       "      <th>Популярная_категория</th>\n",
       "      <td>0.299717</td>\n",
       "      <td>0.070809</td>\n",
       "      <td>0.073684</td>\n",
       "      <td>0.150386</td>\n",
       "      <td>0.136243</td>\n",
       "      <td>0.000000</td>\n",
       "      <td>0.122385</td>\n",
       "      <td>1.000000</td>\n",
       "      <td>0.226116</td>\n",
       "      <td>0.248620</td>\n",
       "      <td>0.000000</td>\n",
       "      <td>0.160300</td>\n",
       "      <td>0.252097</td>\n",
       "      <td>0.043528</td>\n",
       "      <td>0.237240</td>\n",
       "      <td>0.195233</td>\n",
       "      <td>0.089883</td>\n",
       "    </tr>\n",
       "    <tr>\n",
       "      <th>Средний_просмотр_категорий_за_визит</th>\n",
       "      <td>0.539607</td>\n",
       "      <td>0.185391</td>\n",
       "      <td>0.070359</td>\n",
       "      <td>0.206788</td>\n",
       "      <td>0.246633</td>\n",
       "      <td>0.186795</td>\n",
       "      <td>0.199180</td>\n",
       "      <td>0.226116</td>\n",
       "      <td>1.000000</td>\n",
       "      <td>0.325578</td>\n",
       "      <td>0.070315</td>\n",
       "      <td>0.262271</td>\n",
       "      <td>0.098440</td>\n",
       "      <td>0.176828</td>\n",
       "      <td>0.092597</td>\n",
       "      <td>0.159837</td>\n",
       "      <td>0.182568</td>\n",
       "    </tr>\n",
       "    <tr>\n",
       "      <th>Неоплаченные_продукты_штук_квартал</th>\n",
       "      <td>0.505655</td>\n",
       "      <td>0.120027</td>\n",
       "      <td>0.195982</td>\n",
       "      <td>0.289421</td>\n",
       "      <td>0.144203</td>\n",
       "      <td>0.192611</td>\n",
       "      <td>0.237962</td>\n",
       "      <td>0.248620</td>\n",
       "      <td>0.325578</td>\n",
       "      <td>1.000000</td>\n",
       "      <td>0.032907</td>\n",
       "      <td>0.363760</td>\n",
       "      <td>0.249171</td>\n",
       "      <td>0.261016</td>\n",
       "      <td>0.230022</td>\n",
       "      <td>0.256632</td>\n",
       "      <td>0.232383</td>\n",
       "    </tr>\n",
       "    <tr>\n",
       "      <th>Ошибка_сервиса</th>\n",
       "      <td>0.224154</td>\n",
       "      <td>0.079515</td>\n",
       "      <td>0.021839</td>\n",
       "      <td>0.142401</td>\n",
       "      <td>0.116946</td>\n",
       "      <td>0.175608</td>\n",
       "      <td>0.000000</td>\n",
       "      <td>0.000000</td>\n",
       "      <td>0.070315</td>\n",
       "      <td>0.032907</td>\n",
       "      <td>1.000000</td>\n",
       "      <td>0.183682</td>\n",
       "      <td>0.000000</td>\n",
       "      <td>0.138558</td>\n",
       "      <td>0.000000</td>\n",
       "      <td>0.243978</td>\n",
       "      <td>0.177180</td>\n",
       "    </tr>\n",
       "    <tr>\n",
       "      <th>Страниц_за_визит</th>\n",
       "      <td>0.749888</td>\n",
       "      <td>0.102594</td>\n",
       "      <td>0.042134</td>\n",
       "      <td>0.396769</td>\n",
       "      <td>0.000000</td>\n",
       "      <td>0.122495</td>\n",
       "      <td>0.311418</td>\n",
       "      <td>0.160300</td>\n",
       "      <td>0.262271</td>\n",
       "      <td>0.363760</td>\n",
       "      <td>0.183682</td>\n",
       "      <td>1.000000</td>\n",
       "      <td>0.148410</td>\n",
       "      <td>0.339954</td>\n",
       "      <td>0.139891</td>\n",
       "      <td>0.478889</td>\n",
       "      <td>0.382377</td>\n",
       "    </tr>\n",
       "    <tr>\n",
       "      <th>предыдущий_месяц_выручка</th>\n",
       "      <td>0.224638</td>\n",
       "      <td>0.000000</td>\n",
       "      <td>0.080842</td>\n",
       "      <td>0.155476</td>\n",
       "      <td>0.051824</td>\n",
       "      <td>0.125572</td>\n",
       "      <td>0.060733</td>\n",
       "      <td>0.252097</td>\n",
       "      <td>0.098440</td>\n",
       "      <td>0.249171</td>\n",
       "      <td>0.000000</td>\n",
       "      <td>0.148410</td>\n",
       "      <td>1.000000</td>\n",
       "      <td>0.358313</td>\n",
       "      <td>0.836281</td>\n",
       "      <td>0.126368</td>\n",
       "      <td>0.196789</td>\n",
       "    </tr>\n",
       "    <tr>\n",
       "      <th>препредыдущий_месяц_выручка</th>\n",
       "      <td>0.497393</td>\n",
       "      <td>0.069704</td>\n",
       "      <td>0.000000</td>\n",
       "      <td>0.315331</td>\n",
       "      <td>0.000000</td>\n",
       "      <td>0.113200</td>\n",
       "      <td>0.226381</td>\n",
       "      <td>0.043528</td>\n",
       "      <td>0.176828</td>\n",
       "      <td>0.261016</td>\n",
       "      <td>0.138558</td>\n",
       "      <td>0.339954</td>\n",
       "      <td>0.358313</td>\n",
       "      <td>1.000000</td>\n",
       "      <td>0.410478</td>\n",
       "      <td>0.421709</td>\n",
       "      <td>0.342117</td>\n",
       "    </tr>\n",
       "    <tr>\n",
       "      <th>текущий_месяц_выручка</th>\n",
       "      <td>0.197213</td>\n",
       "      <td>0.124216</td>\n",
       "      <td>0.060907</td>\n",
       "      <td>0.039795</td>\n",
       "      <td>0.000000</td>\n",
       "      <td>0.147048</td>\n",
       "      <td>0.071094</td>\n",
       "      <td>0.237240</td>\n",
       "      <td>0.092597</td>\n",
       "      <td>0.230022</td>\n",
       "      <td>0.000000</td>\n",
       "      <td>0.139891</td>\n",
       "      <td>0.836281</td>\n",
       "      <td>0.410478</td>\n",
       "      <td>1.000000</td>\n",
       "      <td>0.229351</td>\n",
       "      <td>0.256596</td>\n",
       "    </tr>\n",
       "    <tr>\n",
       "      <th>предыдущий_месяц_минут</th>\n",
       "      <td>0.685138</td>\n",
       "      <td>0.131814</td>\n",
       "      <td>0.038387</td>\n",
       "      <td>0.363950</td>\n",
       "      <td>0.107945</td>\n",
       "      <td>0.026448</td>\n",
       "      <td>0.262324</td>\n",
       "      <td>0.195233</td>\n",
       "      <td>0.159837</td>\n",
       "      <td>0.256632</td>\n",
       "      <td>0.243978</td>\n",
       "      <td>0.478889</td>\n",
       "      <td>0.126368</td>\n",
       "      <td>0.421709</td>\n",
       "      <td>0.229351</td>\n",
       "      <td>1.000000</td>\n",
       "      <td>0.410990</td>\n",
       "    </tr>\n",
       "    <tr>\n",
       "      <th>текущий_месяц_минут</th>\n",
       "      <td>0.576770</td>\n",
       "      <td>0.000000</td>\n",
       "      <td>0.000000</td>\n",
       "      <td>0.330601</td>\n",
       "      <td>0.061410</td>\n",
       "      <td>0.101481</td>\n",
       "      <td>0.250558</td>\n",
       "      <td>0.089883</td>\n",
       "      <td>0.182568</td>\n",
       "      <td>0.232383</td>\n",
       "      <td>0.177180</td>\n",
       "      <td>0.382377</td>\n",
       "      <td>0.196789</td>\n",
       "      <td>0.342117</td>\n",
       "      <td>0.256596</td>\n",
       "      <td>0.410990</td>\n",
       "      <td>1.000000</td>\n",
       "    </tr>\n",
       "  </tbody>\n",
       "</table>\n",
       "</div>"
      ],
      "text/plain": [
       "                                     Покупательская активность  Тип сервиса  \\\n",
       "Покупательская активность                             1.000000     0.129940   \n",
       "Тип сервиса                                           0.129940     1.000000   \n",
       "Разрешить сообщать                                    0.000000     0.289965   \n",
       "Маркет_актив_6_мес                                    0.544831     0.089911   \n",
       "Маркет_актив_тек_мес                                  0.000000     0.045258   \n",
       "Длительность                                          0.099901     0.401411   \n",
       "Акционные_покупки                                     0.506276     0.030010   \n",
       "Популярная_категория                                  0.299717     0.070809   \n",
       "Средний_просмотр_категорий_за_визит                   0.539607     0.185391   \n",
       "Неоплаченные_продукты_штук_квартал                    0.505655     0.120027   \n",
       "Ошибка_сервиса                                        0.224154     0.079515   \n",
       "Страниц_за_визит                                      0.749888     0.102594   \n",
       "предыдущий_месяц_выручка                              0.224638     0.000000   \n",
       "препредыдущий_месяц_выручка                           0.497393     0.069704   \n",
       "текущий_месяц_выручка                                 0.197213     0.124216   \n",
       "предыдущий_месяц_минут                                0.685138     0.131814   \n",
       "текущий_месяц_минут                                   0.576770     0.000000   \n",
       "\n",
       "                                     Разрешить сообщать  Маркет_актив_6_мес  \\\n",
       "Покупательская активность                      0.000000            0.544831   \n",
       "Тип сервиса                                    0.289965            0.089911   \n",
       "Разрешить сообщать                             1.000000            0.000000   \n",
       "Маркет_актив_6_мес                             0.000000            1.000000   \n",
       "Маркет_актив_тек_мес                           0.052618            0.079854   \n",
       "Длительность                                   0.253831            0.000000   \n",
       "Акционные_покупки                              0.012198            0.279553   \n",
       "Популярная_категория                           0.073684            0.150386   \n",
       "Средний_просмотр_категорий_за_визит            0.070359            0.206788   \n",
       "Неоплаченные_продукты_штук_квартал             0.195982            0.289421   \n",
       "Ошибка_сервиса                                 0.021839            0.142401   \n",
       "Страниц_за_визит                               0.042134            0.396769   \n",
       "предыдущий_месяц_выручка                       0.080842            0.155476   \n",
       "препредыдущий_месяц_выручка                    0.000000            0.315331   \n",
       "текущий_месяц_выручка                          0.060907            0.039795   \n",
       "предыдущий_месяц_минут                         0.038387            0.363950   \n",
       "текущий_месяц_минут                            0.000000            0.330601   \n",
       "\n",
       "                                     Маркет_актив_тек_мес  Длительность  \\\n",
       "Покупательская активность                        0.000000      0.099901   \n",
       "Тип сервиса                                      0.045258      0.401411   \n",
       "Разрешить сообщать                               0.052618      0.253831   \n",
       "Маркет_актив_6_мес                               0.079854      0.000000   \n",
       "Маркет_актив_тек_мес                             1.000000      0.174233   \n",
       "Длительность                                     0.174233      1.000000   \n",
       "Акционные_покупки                                0.000000      0.000000   \n",
       "Популярная_категория                             0.136243      0.000000   \n",
       "Средний_просмотр_категорий_за_визит              0.246633      0.186795   \n",
       "Неоплаченные_продукты_штук_квартал               0.144203      0.192611   \n",
       "Ошибка_сервиса                                   0.116946      0.175608   \n",
       "Страниц_за_визит                                 0.000000      0.122495   \n",
       "предыдущий_месяц_выручка                         0.051824      0.125572   \n",
       "препредыдущий_месяц_выручка                      0.000000      0.113200   \n",
       "текущий_месяц_выручка                            0.000000      0.147048   \n",
       "предыдущий_месяц_минут                           0.107945      0.026448   \n",
       "текущий_месяц_минут                              0.061410      0.101481   \n",
       "\n",
       "                                     Акционные_покупки  Популярная_категория  \\\n",
       "Покупательская активность                     0.506276              0.299717   \n",
       "Тип сервиса                                   0.030010              0.070809   \n",
       "Разрешить сообщать                            0.012198              0.073684   \n",
       "Маркет_актив_6_мес                            0.279553              0.150386   \n",
       "Маркет_актив_тек_мес                          0.000000              0.136243   \n",
       "Длительность                                  0.000000              0.000000   \n",
       "Акционные_покупки                             1.000000              0.122385   \n",
       "Популярная_категория                          0.122385              1.000000   \n",
       "Средний_просмотр_категорий_за_визит           0.199180              0.226116   \n",
       "Неоплаченные_продукты_штук_квартал            0.237962              0.248620   \n",
       "Ошибка_сервиса                                0.000000              0.000000   \n",
       "Страниц_за_визит                              0.311418              0.160300   \n",
       "предыдущий_месяц_выручка                      0.060733              0.252097   \n",
       "препредыдущий_месяц_выручка                   0.226381              0.043528   \n",
       "текущий_месяц_выручка                         0.071094              0.237240   \n",
       "предыдущий_месяц_минут                        0.262324              0.195233   \n",
       "текущий_месяц_минут                           0.250558              0.089883   \n",
       "\n",
       "                                     Средний_просмотр_категорий_за_визит  \\\n",
       "Покупательская активность                                       0.539607   \n",
       "Тип сервиса                                                     0.185391   \n",
       "Разрешить сообщать                                              0.070359   \n",
       "Маркет_актив_6_мес                                              0.206788   \n",
       "Маркет_актив_тек_мес                                            0.246633   \n",
       "Длительность                                                    0.186795   \n",
       "Акционные_покупки                                               0.199180   \n",
       "Популярная_категория                                            0.226116   \n",
       "Средний_просмотр_категорий_за_визит                             1.000000   \n",
       "Неоплаченные_продукты_штук_квартал                              0.325578   \n",
       "Ошибка_сервиса                                                  0.070315   \n",
       "Страниц_за_визит                                                0.262271   \n",
       "предыдущий_месяц_выручка                                        0.098440   \n",
       "препредыдущий_месяц_выручка                                     0.176828   \n",
       "текущий_месяц_выручка                                           0.092597   \n",
       "предыдущий_месяц_минут                                          0.159837   \n",
       "текущий_месяц_минут                                             0.182568   \n",
       "\n",
       "                                     Неоплаченные_продукты_штук_квартал  \\\n",
       "Покупательская активность                                      0.505655   \n",
       "Тип сервиса                                                    0.120027   \n",
       "Разрешить сообщать                                             0.195982   \n",
       "Маркет_актив_6_мес                                             0.289421   \n",
       "Маркет_актив_тек_мес                                           0.144203   \n",
       "Длительность                                                   0.192611   \n",
       "Акционные_покупки                                              0.237962   \n",
       "Популярная_категория                                           0.248620   \n",
       "Средний_просмотр_категорий_за_визит                            0.325578   \n",
       "Неоплаченные_продукты_штук_квартал                             1.000000   \n",
       "Ошибка_сервиса                                                 0.032907   \n",
       "Страниц_за_визит                                               0.363760   \n",
       "предыдущий_месяц_выручка                                       0.249171   \n",
       "препредыдущий_месяц_выручка                                    0.261016   \n",
       "текущий_месяц_выручка                                          0.230022   \n",
       "предыдущий_месяц_минут                                         0.256632   \n",
       "текущий_месяц_минут                                            0.232383   \n",
       "\n",
       "                                     Ошибка_сервиса  Страниц_за_визит  \\\n",
       "Покупательская активность                  0.224154          0.749888   \n",
       "Тип сервиса                                0.079515          0.102594   \n",
       "Разрешить сообщать                         0.021839          0.042134   \n",
       "Маркет_актив_6_мес                         0.142401          0.396769   \n",
       "Маркет_актив_тек_мес                       0.116946          0.000000   \n",
       "Длительность                               0.175608          0.122495   \n",
       "Акционные_покупки                          0.000000          0.311418   \n",
       "Популярная_категория                       0.000000          0.160300   \n",
       "Средний_просмотр_категорий_за_визит        0.070315          0.262271   \n",
       "Неоплаченные_продукты_штук_квартал         0.032907          0.363760   \n",
       "Ошибка_сервиса                             1.000000          0.183682   \n",
       "Страниц_за_визит                           0.183682          1.000000   \n",
       "предыдущий_месяц_выручка                   0.000000          0.148410   \n",
       "препредыдущий_месяц_выручка                0.138558          0.339954   \n",
       "текущий_месяц_выручка                      0.000000          0.139891   \n",
       "предыдущий_месяц_минут                     0.243978          0.478889   \n",
       "текущий_месяц_минут                        0.177180          0.382377   \n",
       "\n",
       "                                     предыдущий_месяц_выручка  \\\n",
       "Покупательская активность                            0.224638   \n",
       "Тип сервиса                                          0.000000   \n",
       "Разрешить сообщать                                   0.080842   \n",
       "Маркет_актив_6_мес                                   0.155476   \n",
       "Маркет_актив_тек_мес                                 0.051824   \n",
       "Длительность                                         0.125572   \n",
       "Акционные_покупки                                    0.060733   \n",
       "Популярная_категория                                 0.252097   \n",
       "Средний_просмотр_категорий_за_визит                  0.098440   \n",
       "Неоплаченные_продукты_штук_квартал                   0.249171   \n",
       "Ошибка_сервиса                                       0.000000   \n",
       "Страниц_за_визит                                     0.148410   \n",
       "предыдущий_месяц_выручка                             1.000000   \n",
       "препредыдущий_месяц_выручка                          0.358313   \n",
       "текущий_месяц_выручка                                0.836281   \n",
       "предыдущий_месяц_минут                               0.126368   \n",
       "текущий_месяц_минут                                  0.196789   \n",
       "\n",
       "                                     препредыдущий_месяц_выручка  \\\n",
       "Покупательская активность                               0.497393   \n",
       "Тип сервиса                                             0.069704   \n",
       "Разрешить сообщать                                      0.000000   \n",
       "Маркет_актив_6_мес                                      0.315331   \n",
       "Маркет_актив_тек_мес                                    0.000000   \n",
       "Длительность                                            0.113200   \n",
       "Акционные_покупки                                       0.226381   \n",
       "Популярная_категория                                    0.043528   \n",
       "Средний_просмотр_категорий_за_визит                     0.176828   \n",
       "Неоплаченные_продукты_штук_квартал                      0.261016   \n",
       "Ошибка_сервиса                                          0.138558   \n",
       "Страниц_за_визит                                        0.339954   \n",
       "предыдущий_месяц_выручка                                0.358313   \n",
       "препредыдущий_месяц_выручка                             1.000000   \n",
       "текущий_месяц_выручка                                   0.410478   \n",
       "предыдущий_месяц_минут                                  0.421709   \n",
       "текущий_месяц_минут                                     0.342117   \n",
       "\n",
       "                                     текущий_месяц_выручка  \\\n",
       "Покупательская активность                         0.197213   \n",
       "Тип сервиса                                       0.124216   \n",
       "Разрешить сообщать                                0.060907   \n",
       "Маркет_актив_6_мес                                0.039795   \n",
       "Маркет_актив_тек_мес                              0.000000   \n",
       "Длительность                                      0.147048   \n",
       "Акционные_покупки                                 0.071094   \n",
       "Популярная_категория                              0.237240   \n",
       "Средний_просмотр_категорий_за_визит               0.092597   \n",
       "Неоплаченные_продукты_штук_квартал                0.230022   \n",
       "Ошибка_сервиса                                    0.000000   \n",
       "Страниц_за_визит                                  0.139891   \n",
       "предыдущий_месяц_выручка                          0.836281   \n",
       "препредыдущий_месяц_выручка                       0.410478   \n",
       "текущий_месяц_выручка                             1.000000   \n",
       "предыдущий_месяц_минут                            0.229351   \n",
       "текущий_месяц_минут                               0.256596   \n",
       "\n",
       "                                     предыдущий_месяц_минут  \\\n",
       "Покупательская активность                          0.685138   \n",
       "Тип сервиса                                        0.131814   \n",
       "Разрешить сообщать                                 0.038387   \n",
       "Маркет_актив_6_мес                                 0.363950   \n",
       "Маркет_актив_тек_мес                               0.107945   \n",
       "Длительность                                       0.026448   \n",
       "Акционные_покупки                                  0.262324   \n",
       "Популярная_категория                               0.195233   \n",
       "Средний_просмотр_категорий_за_визит                0.159837   \n",
       "Неоплаченные_продукты_штук_квартал                 0.256632   \n",
       "Ошибка_сервиса                                     0.243978   \n",
       "Страниц_за_визит                                   0.478889   \n",
       "предыдущий_месяц_выручка                           0.126368   \n",
       "препредыдущий_месяц_выручка                        0.421709   \n",
       "текущий_месяц_выручка                              0.229351   \n",
       "предыдущий_месяц_минут                             1.000000   \n",
       "текущий_месяц_минут                                0.410990   \n",
       "\n",
       "                                     текущий_месяц_минут  \n",
       "Покупательская активность                       0.576770  \n",
       "Тип сервиса                                     0.000000  \n",
       "Разрешить сообщать                              0.000000  \n",
       "Маркет_актив_6_мес                              0.330601  \n",
       "Маркет_актив_тек_мес                            0.061410  \n",
       "Длительность                                    0.101481  \n",
       "Акционные_покупки                               0.250558  \n",
       "Популярная_категория                            0.089883  \n",
       "Средний_просмотр_категорий_за_визит             0.182568  \n",
       "Неоплаченные_продукты_штук_квартал              0.232383  \n",
       "Ошибка_сервиса                                  0.177180  \n",
       "Страниц_за_визит                                0.382377  \n",
       "предыдущий_месяц_выручка                        0.196789  \n",
       "препредыдущий_месяц_выручка                     0.342117  \n",
       "текущий_месяц_выручка                           0.256596  \n",
       "предыдущий_месяц_минут                          0.410990  \n",
       "текущий_месяц_минут                             1.000000  "
      ]
     },
     "execution_count": 45,
     "metadata": {},
     "output_type": "execute_result"
    }
   ],
   "source": [
    "data.drop('id', axis=1).phik_matrix() "
   ]
  },
  {
   "cell_type": "markdown",
   "id": "758b6a60",
   "metadata": {},
   "source": [
    "Заметим, что между показателями либо слабая, либо умеренная связь."
   ]
  },
  {
   "cell_type": "markdown",
   "id": "df1558d9",
   "metadata": {},
   "source": [
    "По итогам корреляционного анализа заметим, что среди количественных признаков нет признаков с сильной линейной связью, а значит, мультиколлинеарность не возникнет."
   ]
  },
  {
   "cell_type": "markdown",
   "id": "edf50e45",
   "metadata": {},
   "source": [
    "## Шаг 6. Использование пайплайнов"
   ]
  },
  {
   "cell_type": "markdown",
   "id": "7176a467",
   "metadata": {},
   "source": [
    "Создадим модели для обработки данных. В рамках создания модели будем использовать пайплайны. Выделим следующие шаги:\n",
    "- фиксация констант: RANDOM_STATE и размер тестовой выборки\n",
    "- разделение данных на тренировочные и валидационные\n",
    "- создание списков столбцов с категориальными и количественными признаками\n",
    "- создание пайплайна для обработки категориальных признаков с помощью OneHotEncoder\n",
    "- создание общего пайплайна для обработки данных\n",
    "- создание итогового пайплайна: обработка данных и модель\n",
    "- создание словаря со списком моделей и гиперпараметров\n",
    "- запуск рандомизированного поиска лучшей модели\n",
    "- выбор лучшей модели на основе метрике roc_auc: в данном случае эта метрика предпочтительна, т.к. не зависит от выбранных порогов вероятности"
   ]
  },
  {
   "cell_type": "code",
   "execution_count": 46,
   "id": "b6310daa",
   "metadata": {},
   "outputs": [
    {
     "data": {
      "text/html": [
       "<style>#sk-container-id-1 {color: black;}#sk-container-id-1 pre{padding: 0;}#sk-container-id-1 div.sk-toggleable {background-color: white;}#sk-container-id-1 label.sk-toggleable__label {cursor: pointer;display: block;width: 100%;margin-bottom: 0;padding: 0.3em;box-sizing: border-box;text-align: center;}#sk-container-id-1 label.sk-toggleable__label-arrow:before {content: \"▸\";float: left;margin-right: 0.25em;color: #696969;}#sk-container-id-1 label.sk-toggleable__label-arrow:hover:before {color: black;}#sk-container-id-1 div.sk-estimator:hover label.sk-toggleable__label-arrow:before {color: black;}#sk-container-id-1 div.sk-toggleable__content {max-height: 0;max-width: 0;overflow: hidden;text-align: left;background-color: #f0f8ff;}#sk-container-id-1 div.sk-toggleable__content pre {margin: 0.2em;color: black;border-radius: 0.25em;background-color: #f0f8ff;}#sk-container-id-1 input.sk-toggleable__control:checked~div.sk-toggleable__content {max-height: 200px;max-width: 100%;overflow: auto;}#sk-container-id-1 input.sk-toggleable__control:checked~label.sk-toggleable__label-arrow:before {content: \"▾\";}#sk-container-id-1 div.sk-estimator input.sk-toggleable__control:checked~label.sk-toggleable__label {background-color: #d4ebff;}#sk-container-id-1 div.sk-label input.sk-toggleable__control:checked~label.sk-toggleable__label {background-color: #d4ebff;}#sk-container-id-1 input.sk-hidden--visually {border: 0;clip: rect(1px 1px 1px 1px);clip: rect(1px, 1px, 1px, 1px);height: 1px;margin: -1px;overflow: hidden;padding: 0;position: absolute;width: 1px;}#sk-container-id-1 div.sk-estimator {font-family: monospace;background-color: #f0f8ff;border: 1px dotted black;border-radius: 0.25em;box-sizing: border-box;margin-bottom: 0.5em;}#sk-container-id-1 div.sk-estimator:hover {background-color: #d4ebff;}#sk-container-id-1 div.sk-parallel-item::after {content: \"\";width: 100%;border-bottom: 1px solid gray;flex-grow: 1;}#sk-container-id-1 div.sk-label:hover label.sk-toggleable__label {background-color: #d4ebff;}#sk-container-id-1 div.sk-serial::before {content: \"\";position: absolute;border-left: 1px solid gray;box-sizing: border-box;top: 0;bottom: 0;left: 50%;z-index: 0;}#sk-container-id-1 div.sk-serial {display: flex;flex-direction: column;align-items: center;background-color: white;padding-right: 0.2em;padding-left: 0.2em;position: relative;}#sk-container-id-1 div.sk-item {position: relative;z-index: 1;}#sk-container-id-1 div.sk-parallel {display: flex;align-items: stretch;justify-content: center;background-color: white;position: relative;}#sk-container-id-1 div.sk-item::before, #sk-container-id-1 div.sk-parallel-item::before {content: \"\";position: absolute;border-left: 1px solid gray;box-sizing: border-box;top: 0;bottom: 0;left: 50%;z-index: -1;}#sk-container-id-1 div.sk-parallel-item {display: flex;flex-direction: column;z-index: 1;position: relative;background-color: white;}#sk-container-id-1 div.sk-parallel-item:first-child::after {align-self: flex-end;width: 50%;}#sk-container-id-1 div.sk-parallel-item:last-child::after {align-self: flex-start;width: 50%;}#sk-container-id-1 div.sk-parallel-item:only-child::after {width: 0;}#sk-container-id-1 div.sk-dashed-wrapped {border: 1px dashed gray;margin: 0 0.4em 0.5em 0.4em;box-sizing: border-box;padding-bottom: 0.4em;background-color: white;}#sk-container-id-1 div.sk-label label {font-family: monospace;font-weight: bold;display: inline-block;line-height: 1.2em;}#sk-container-id-1 div.sk-label-container {text-align: center;}#sk-container-id-1 div.sk-container {/* jupyter's `normalize.less` sets `[hidden] { display: none; }` but bootstrap.min.css set `[hidden] { display: none !important; }` so we also need the `!important` here to be able to override the default hidden behavior on the sphinx rendered scikit-learn.org. See: https://github.com/scikit-learn/scikit-learn/issues/21755 */display: inline-block !important;position: relative;}#sk-container-id-1 div.sk-text-repr-fallback {display: none;}</style><div id=\"sk-container-id-1\" class=\"sk-top-container\"><div class=\"sk-text-repr-fallback\"><pre>RandomizedSearchCV(cv=5,\n",
       "                   estimator=Pipeline(steps=[(&#x27;preprocessor&#x27;,\n",
       "                                              ColumnTransformer(remainder=&#x27;passthrough&#x27;,\n",
       "                                                                transformers=[(&#x27;ohe&#x27;,\n",
       "                                                                               Pipeline(steps=[(&#x27;simpleImputer_ohe&#x27;,\n",
       "                                                                                                SimpleImputer(strategy=&#x27;most_frequent&#x27;)),\n",
       "                                                                                               (&#x27;ohe&#x27;,\n",
       "                                                                                                OneHotEncoder(drop=&#x27;first&#x27;,\n",
       "                                                                                                              sparse_output=False))]),\n",
       "                                                                               [&#x27;Тип &#x27;\n",
       "                                                                                &#x27;сервиса&#x27;,\n",
       "                                                                                &#x27;Разрешить &#x27;\n",
       "                                                                                &#x27;сообщать&#x27;,\n",
       "                                                                                &#x27;Популярная_категория&#x27;]),\n",
       "                                                                              (&#x27;num&#x27;,\n",
       "                                                                               MinMaxScaler(),...\n",
       "                                                               &#x27;passthrough&#x27;]},\n",
       "                                        {&#x27;models&#x27;: [SVC(kernel=&#x27;poly&#x27;)],\n",
       "                                         &#x27;models__degree&#x27;: range(2, 8),\n",
       "                                         &#x27;preprocessor__num&#x27;: [StandardScaler(),\n",
       "                                                               MinMaxScaler(),\n",
       "                                                               &#x27;passthrough&#x27;]},\n",
       "                                        {&#x27;models&#x27;: [LogisticRegression(penalty=&#x27;l1&#x27;,\n",
       "                                                                       random_state=42,\n",
       "                                                                       solver=&#x27;liblinear&#x27;)],\n",
       "                                         &#x27;models__C&#x27;: range(1, 5),\n",
       "                                         &#x27;preprocessor__num&#x27;: [StandardScaler(),\n",
       "                                                               MinMaxScaler(),\n",
       "                                                               &#x27;passthrough&#x27;]}],\n",
       "                   random_state=42, scoring=&#x27;roc_auc&#x27;)</pre><b>In a Jupyter environment, please rerun this cell to show the HTML representation or trust the notebook. <br />On GitHub, the HTML representation is unable to render, please try loading this page with nbviewer.org.</b></div><div class=\"sk-container\" hidden><div class=\"sk-item sk-dashed-wrapped\"><div class=\"sk-label-container\"><div class=\"sk-label sk-toggleable\"><input class=\"sk-toggleable__control sk-hidden--visually\" id=\"sk-estimator-id-1\" type=\"checkbox\" ><label for=\"sk-estimator-id-1\" class=\"sk-toggleable__label sk-toggleable__label-arrow\">RandomizedSearchCV</label><div class=\"sk-toggleable__content\"><pre>RandomizedSearchCV(cv=5,\n",
       "                   estimator=Pipeline(steps=[(&#x27;preprocessor&#x27;,\n",
       "                                              ColumnTransformer(remainder=&#x27;passthrough&#x27;,\n",
       "                                                                transformers=[(&#x27;ohe&#x27;,\n",
       "                                                                               Pipeline(steps=[(&#x27;simpleImputer_ohe&#x27;,\n",
       "                                                                                                SimpleImputer(strategy=&#x27;most_frequent&#x27;)),\n",
       "                                                                                               (&#x27;ohe&#x27;,\n",
       "                                                                                                OneHotEncoder(drop=&#x27;first&#x27;,\n",
       "                                                                                                              sparse_output=False))]),\n",
       "                                                                               [&#x27;Тип &#x27;\n",
       "                                                                                &#x27;сервиса&#x27;,\n",
       "                                                                                &#x27;Разрешить &#x27;\n",
       "                                                                                &#x27;сообщать&#x27;,\n",
       "                                                                                &#x27;Популярная_категория&#x27;]),\n",
       "                                                                              (&#x27;num&#x27;,\n",
       "                                                                               MinMaxScaler(),...\n",
       "                                                               &#x27;passthrough&#x27;]},\n",
       "                                        {&#x27;models&#x27;: [SVC(kernel=&#x27;poly&#x27;)],\n",
       "                                         &#x27;models__degree&#x27;: range(2, 8),\n",
       "                                         &#x27;preprocessor__num&#x27;: [StandardScaler(),\n",
       "                                                               MinMaxScaler(),\n",
       "                                                               &#x27;passthrough&#x27;]},\n",
       "                                        {&#x27;models&#x27;: [LogisticRegression(penalty=&#x27;l1&#x27;,\n",
       "                                                                       random_state=42,\n",
       "                                                                       solver=&#x27;liblinear&#x27;)],\n",
       "                                         &#x27;models__C&#x27;: range(1, 5),\n",
       "                                         &#x27;preprocessor__num&#x27;: [StandardScaler(),\n",
       "                                                               MinMaxScaler(),\n",
       "                                                               &#x27;passthrough&#x27;]}],\n",
       "                   random_state=42, scoring=&#x27;roc_auc&#x27;)</pre></div></div></div><div class=\"sk-parallel\"><div class=\"sk-parallel-item\"><div class=\"sk-item\"><div class=\"sk-label-container\"><div class=\"sk-label sk-toggleable\"><input class=\"sk-toggleable__control sk-hidden--visually\" id=\"sk-estimator-id-2\" type=\"checkbox\" ><label for=\"sk-estimator-id-2\" class=\"sk-toggleable__label sk-toggleable__label-arrow\">estimator: Pipeline</label><div class=\"sk-toggleable__content\"><pre>Pipeline(steps=[(&#x27;preprocessor&#x27;,\n",
       "                 ColumnTransformer(remainder=&#x27;passthrough&#x27;,\n",
       "                                   transformers=[(&#x27;ohe&#x27;,\n",
       "                                                  Pipeline(steps=[(&#x27;simpleImputer_ohe&#x27;,\n",
       "                                                                   SimpleImputer(strategy=&#x27;most_frequent&#x27;)),\n",
       "                                                                  (&#x27;ohe&#x27;,\n",
       "                                                                   OneHotEncoder(drop=&#x27;first&#x27;,\n",
       "                                                                                 sparse_output=False))]),\n",
       "                                                  [&#x27;Тип сервиса&#x27;,\n",
       "                                                   &#x27;Разрешить сообщать&#x27;,\n",
       "                                                   &#x27;Популярная_категория&#x27;]),\n",
       "                                                 (&#x27;num&#x27;, MinMaxScaler(),\n",
       "                                                  [&#x27;Маркет_актив_6_мес&#x27;,\n",
       "                                                   &#x27;Маркет_актив_тек_мес&#x27;,\n",
       "                                                   &#x27;Длительность&#x27;,\n",
       "                                                   &#x27;Акционные_покупки&#x27;,\n",
       "                                                   &#x27;Средний_просмотр_категорий_за_визит&#x27;,\n",
       "                                                   &#x27;Неоплаченные_продукты_штук_квартал&#x27;,\n",
       "                                                   &#x27;Ошибка_сервиса&#x27;,\n",
       "                                                   &#x27;Страниц_за_визит&#x27;,\n",
       "                                                   &#x27;предыдущий_месяц_выручка&#x27;,\n",
       "                                                   &#x27;препредыдущий_месяц_выручка&#x27;,\n",
       "                                                   &#x27;текущий_месяц_выручка&#x27;,\n",
       "                                                   &#x27;предыдущий_месяц_минут&#x27;,\n",
       "                                                   &#x27;текущий_месяц_минут&#x27;])])),\n",
       "                (&#x27;models&#x27;, DecisionTreeClassifier(random_state=42))])</pre></div></div></div><div class=\"sk-serial\"><div class=\"sk-item\"><div class=\"sk-serial\"><div class=\"sk-item sk-dashed-wrapped\"><div class=\"sk-label-container\"><div class=\"sk-label sk-toggleable\"><input class=\"sk-toggleable__control sk-hidden--visually\" id=\"sk-estimator-id-3\" type=\"checkbox\" ><label for=\"sk-estimator-id-3\" class=\"sk-toggleable__label sk-toggleable__label-arrow\">preprocessor: ColumnTransformer</label><div class=\"sk-toggleable__content\"><pre>ColumnTransformer(remainder=&#x27;passthrough&#x27;,\n",
       "                  transformers=[(&#x27;ohe&#x27;,\n",
       "                                 Pipeline(steps=[(&#x27;simpleImputer_ohe&#x27;,\n",
       "                                                  SimpleImputer(strategy=&#x27;most_frequent&#x27;)),\n",
       "                                                 (&#x27;ohe&#x27;,\n",
       "                                                  OneHotEncoder(drop=&#x27;first&#x27;,\n",
       "                                                                sparse_output=False))]),\n",
       "                                 [&#x27;Тип сервиса&#x27;, &#x27;Разрешить сообщать&#x27;,\n",
       "                                  &#x27;Популярная_категория&#x27;]),\n",
       "                                (&#x27;num&#x27;, MinMaxScaler(),\n",
       "                                 [&#x27;Маркет_актив_6_мес&#x27;, &#x27;Маркет_актив_тек_мес&#x27;,\n",
       "                                  &#x27;Длительность&#x27;, &#x27;Акционные_покупки&#x27;,\n",
       "                                  &#x27;Средний_просмотр_категорий_за_визит&#x27;,\n",
       "                                  &#x27;Неоплаченные_продукты_штук_квартал&#x27;,\n",
       "                                  &#x27;Ошибка_сервиса&#x27;, &#x27;Страниц_за_визит&#x27;,\n",
       "                                  &#x27;предыдущий_месяц_выручка&#x27;,\n",
       "                                  &#x27;препредыдущий_месяц_выручка&#x27;,\n",
       "                                  &#x27;текущий_месяц_выручка&#x27;,\n",
       "                                  &#x27;предыдущий_месяц_минут&#x27;,\n",
       "                                  &#x27;текущий_месяц_минут&#x27;])])</pre></div></div></div><div class=\"sk-parallel\"><div class=\"sk-parallel-item\"><div class=\"sk-item\"><div class=\"sk-label-container\"><div class=\"sk-label sk-toggleable\"><input class=\"sk-toggleable__control sk-hidden--visually\" id=\"sk-estimator-id-4\" type=\"checkbox\" ><label for=\"sk-estimator-id-4\" class=\"sk-toggleable__label sk-toggleable__label-arrow\">ohe</label><div class=\"sk-toggleable__content\"><pre>[&#x27;Тип сервиса&#x27;, &#x27;Разрешить сообщать&#x27;, &#x27;Популярная_категория&#x27;]</pre></div></div></div><div class=\"sk-serial\"><div class=\"sk-item\"><div class=\"sk-serial\"><div class=\"sk-item\"><div class=\"sk-estimator sk-toggleable\"><input class=\"sk-toggleable__control sk-hidden--visually\" id=\"sk-estimator-id-5\" type=\"checkbox\" ><label for=\"sk-estimator-id-5\" class=\"sk-toggleable__label sk-toggleable__label-arrow\">SimpleImputer</label><div class=\"sk-toggleable__content\"><pre>SimpleImputer(strategy=&#x27;most_frequent&#x27;)</pre></div></div></div><div class=\"sk-item\"><div class=\"sk-estimator sk-toggleable\"><input class=\"sk-toggleable__control sk-hidden--visually\" id=\"sk-estimator-id-6\" type=\"checkbox\" ><label for=\"sk-estimator-id-6\" class=\"sk-toggleable__label sk-toggleable__label-arrow\">OneHotEncoder</label><div class=\"sk-toggleable__content\"><pre>OneHotEncoder(drop=&#x27;first&#x27;, sparse_output=False)</pre></div></div></div></div></div></div></div></div><div class=\"sk-parallel-item\"><div class=\"sk-item\"><div class=\"sk-label-container\"><div class=\"sk-label sk-toggleable\"><input class=\"sk-toggleable__control sk-hidden--visually\" id=\"sk-estimator-id-7\" type=\"checkbox\" ><label for=\"sk-estimator-id-7\" class=\"sk-toggleable__label sk-toggleable__label-arrow\">num</label><div class=\"sk-toggleable__content\"><pre>[&#x27;Маркет_актив_6_мес&#x27;, &#x27;Маркет_актив_тек_мес&#x27;, &#x27;Длительность&#x27;, &#x27;Акционные_покупки&#x27;, &#x27;Средний_просмотр_категорий_за_визит&#x27;, &#x27;Неоплаченные_продукты_штук_квартал&#x27;, &#x27;Ошибка_сервиса&#x27;, &#x27;Страниц_за_визит&#x27;, &#x27;предыдущий_месяц_выручка&#x27;, &#x27;препредыдущий_месяц_выручка&#x27;, &#x27;текущий_месяц_выручка&#x27;, &#x27;предыдущий_месяц_минут&#x27;, &#x27;текущий_месяц_минут&#x27;]</pre></div></div></div><div class=\"sk-serial\"><div class=\"sk-item\"><div class=\"sk-estimator sk-toggleable\"><input class=\"sk-toggleable__control sk-hidden--visually\" id=\"sk-estimator-id-8\" type=\"checkbox\" ><label for=\"sk-estimator-id-8\" class=\"sk-toggleable__label sk-toggleable__label-arrow\">MinMaxScaler</label><div class=\"sk-toggleable__content\"><pre>MinMaxScaler()</pre></div></div></div></div></div></div><div class=\"sk-parallel-item\"><div class=\"sk-item\"><div class=\"sk-label-container\"><div class=\"sk-label sk-toggleable\"><input class=\"sk-toggleable__control sk-hidden--visually\" id=\"sk-estimator-id-9\" type=\"checkbox\" ><label for=\"sk-estimator-id-9\" class=\"sk-toggleable__label sk-toggleable__label-arrow\">remainder</label><div class=\"sk-toggleable__content\"><pre></pre></div></div></div><div class=\"sk-serial\"><div class=\"sk-item\"><div class=\"sk-estimator sk-toggleable\"><input class=\"sk-toggleable__control sk-hidden--visually\" id=\"sk-estimator-id-10\" type=\"checkbox\" ><label for=\"sk-estimator-id-10\" class=\"sk-toggleable__label sk-toggleable__label-arrow\">passthrough</label><div class=\"sk-toggleable__content\"><pre>passthrough</pre></div></div></div></div></div></div></div></div><div class=\"sk-item\"><div class=\"sk-estimator sk-toggleable\"><input class=\"sk-toggleable__control sk-hidden--visually\" id=\"sk-estimator-id-11\" type=\"checkbox\" ><label for=\"sk-estimator-id-11\" class=\"sk-toggleable__label sk-toggleable__label-arrow\">DecisionTreeClassifier</label><div class=\"sk-toggleable__content\"><pre>DecisionTreeClassifier(random_state=42)</pre></div></div></div></div></div></div></div></div></div></div></div></div>"
      ],
      "text/plain": [
       "RandomizedSearchCV(cv=5,\n",
       "                   estimator=Pipeline(steps=[('preprocessor',\n",
       "                                              ColumnTransformer(remainder='passthrough',\n",
       "                                                                transformers=[('ohe',\n",
       "                                                                               Pipeline(steps=[('simpleImputer_ohe',\n",
       "                                                                                                SimpleImputer(strategy='most_frequent')),\n",
       "                                                                                               ('ohe',\n",
       "                                                                                                OneHotEncoder(drop='first',\n",
       "                                                                                                              sparse_output=False))]),\n",
       "                                                                               ['Тип '\n",
       "                                                                                'сервиса',\n",
       "                                                                                'Разрешить '\n",
       "                                                                                'сообщать',\n",
       "                                                                                'Популярная_категория']),\n",
       "                                                                              ('num',\n",
       "                                                                               MinMaxScaler(),...\n",
       "                                                               'passthrough']},\n",
       "                                        {'models': [SVC(kernel='poly')],\n",
       "                                         'models__degree': range(2, 8),\n",
       "                                         'preprocessor__num': [StandardScaler(),\n",
       "                                                               MinMaxScaler(),\n",
       "                                                               'passthrough']},\n",
       "                                        {'models': [LogisticRegression(penalty='l1',\n",
       "                                                                       random_state=42,\n",
       "                                                                       solver='liblinear')],\n",
       "                                         'models__C': range(1, 5),\n",
       "                                         'preprocessor__num': [StandardScaler(),\n",
       "                                                               MinMaxScaler(),\n",
       "                                                               'passthrough']}],\n",
       "                   random_state=42, scoring='roc_auc')"
      ]
     },
     "execution_count": 46,
     "metadata": {},
     "output_type": "execute_result"
    }
   ],
   "source": [
    "\n",
    "\n",
    "X_train, X_test, y_train, y_test = train_test_split(\n",
    "    data.drop(['Покупательская активность','id'], axis=1),\n",
    "    data['Покупательская активность'],\n",
    "    test_size = TEST_SIZE, \n",
    "    random_state = RANDOM_STATE,\n",
    "    stratify = data['Покупательская активность'])\n",
    "\n",
    "X_train.shape, X_test.shape\n",
    "\n",
    "# создаём списки с названиями признаков\n",
    "ohe_columns = X_train.select_dtypes(exclude='number').columns.tolist()\n",
    "num_columns = X_train.select_dtypes(include='number').columns.tolist()\n",
    "\n",
    "# создаём пайплайн для подготовки признаков из списка ohe_columns: заполнение пропусков и OHE-кодирование\n",
    "# SimpleImputer + OHE\n",
    "ohe_pipe = Pipeline(\n",
    "    [('simpleImputer_ohe', SimpleImputer(missing_values=np.nan, strategy='most_frequent')),\n",
    "     ('ohe', OneHotEncoder(handle_unknown='error', sparse_output=False, drop='first'))\n",
    "    ]\n",
    "    )\n",
    "\n",
    "# создаём общий пайплайн для подготовки данных\n",
    "data_preprocessor = ColumnTransformer(\n",
    "    [('ohe', ohe_pipe, ohe_columns),\n",
    "     ('num', MinMaxScaler(), num_columns)\n",
    "    ], \n",
    "    remainder='passthrough'\n",
    ")\n",
    "\n",
    "# создаём итоговый пайплайн: подготовка данных и модель\n",
    "pipe_final = Pipeline([\n",
    "    ('preprocessor', data_preprocessor),\n",
    "    ('models', DecisionTreeClassifier(random_state=RANDOM_STATE))\n",
    "])\n",
    "\n",
    "param_grid = [\n",
    "    # словарь для модели DecisionTreeClassifier()\n",
    "    {\n",
    "        'models': [DecisionTreeClassifier(random_state=RANDOM_STATE)],\n",
    "        'models__max_depth': range(2, 5),\n",
    "        'models__max_features': range(2, 5),\n",
    "        'preprocessor__num': [StandardScaler(), MinMaxScaler(), 'passthrough']  \n",
    "    },\n",
    "    \n",
    "    # словарь для модели KNeighborsClassifier() \n",
    "    {\n",
    "        'models': [KNeighborsClassifier()],\n",
    "        'models__n_neighbors': range(2, 8),\n",
    "        'preprocessor__num': [StandardScaler(), MinMaxScaler(), 'passthrough']   \n",
    "    },\n",
    "    \n",
    "    # словарь для модели SVC()\n",
    "    {\n",
    "        'models': [SVC(\n",
    "            kernel='poly'\n",
    "        )],\n",
    "        'models__degree': range(2, 8),\n",
    "        'preprocessor__num': [StandardScaler(), MinMaxScaler(), 'passthrough']  \n",
    "    },\n",
    "\n",
    "    # словарь для модели LogisticRegression()\n",
    "    {\n",
    "        'models': [LogisticRegression(\n",
    "            random_state=RANDOM_STATE, \n",
    "            solver='liblinear', \n",
    "            penalty='l1'\n",
    "        )],\n",
    "        'models__C': range(1, 5),\n",
    "        'preprocessor__num': [StandardScaler(), MinMaxScaler(), 'passthrough']  \n",
    "    }\n",
    "]\n",
    "\n",
    "randomized_search = RandomizedSearchCV(\n",
    "    pipe_final, \n",
    "    param_grid, \n",
    "    cv=5,\n",
    "    scoring='roc_auc',\n",
    "    random_state=RANDOM_STATE,\n",
    "    n_jobs=-1\n",
    ")\n",
    "randomized_search.fit(X_train, y_train)"
   ]
  },
  {
   "cell_type": "code",
   "execution_count": 47,
   "id": "d7676d0a",
   "metadata": {
    "scrolled": true
   },
   "outputs": [
    {
     "name": "stdout",
     "output_type": "stream",
     "text": [
      "Лучшая модель и её параметры:\n",
      "\n",
      " Pipeline(steps=[('preprocessor',\n",
      "                 ColumnTransformer(remainder='passthrough',\n",
      "                                   transformers=[('ohe',\n",
      "                                                  Pipeline(steps=[('simpleImputer_ohe',\n",
      "                                                                   SimpleImputer(strategy='most_frequent')),\n",
      "                                                                  ('ohe',\n",
      "                                                                   OneHotEncoder(drop='first',\n",
      "                                                                                 sparse_output=False))]),\n",
      "                                                  ['Тип сервиса',\n",
      "                                                   'Разрешить сообщать',\n",
      "                                                   'Популярная_категория']),\n",
      "                                                 ('num', MinMaxScaler(),\n",
      "                                                  ['Маркет_актив_6_мес',\n",
      "                                                   'Маркет_актив_те...\n",
      "                                                   'Длительность',\n",
      "                                                   'Акционные_покупки',\n",
      "                                                   'Средний_просмотр_категорий_за_визит',\n",
      "                                                   'Неоплаченные_продукты_штук_квартал',\n",
      "                                                   'Ошибка_сервиса',\n",
      "                                                   'Страниц_за_визит',\n",
      "                                                   'предыдущий_месяц_выручка',\n",
      "                                                   'препредыдущий_месяц_выручка',\n",
      "                                                   'текущий_месяц_выручка',\n",
      "                                                   'предыдущий_месяц_минут',\n",
      "                                                   'текущий_месяц_минут'])])),\n",
      "                ('models',\n",
      "                 LogisticRegression(C=1, penalty='l1', random_state=42,\n",
      "                                    solver='liblinear'))])\n",
      "Метрика лучшей модели на кроссвалидационной выборке: 0.8983601518874247\n"
     ]
    }
   ],
   "source": [
    "print('Лучшая модель и её параметры:\\n\\n', randomized_search.best_estimator_)\n",
    "print ('Метрика лучшей модели на кроссвалидационной выборке:', randomized_search.best_score_)"
   ]
  },
  {
   "cell_type": "markdown",
   "id": "027cabf5",
   "metadata": {},
   "source": [
    "Лучшей моделью является модель логистической регрессии с параметрами: C=1, penalty='l1', solver='liblinear'\n",
    "\n",
    "Для данной модели целевая метрика на кроссвалидационной выборке roc_auc составляет 0.898"
   ]
  },
  {
   "cell_type": "code",
   "execution_count": 48,
   "id": "6a217905",
   "metadata": {},
   "outputs": [
    {
     "name": "stdout",
     "output_type": "stream",
     "text": [
      "Метрика ROC-AUC на тестовой выборке:\n",
      "\n",
      " 0.9182138090037617\n"
     ]
    }
   ],
   "source": [
    "best_model = randomized_search.best_estimator_\n",
    "pred = best_model.predict_proba(X_test)[:,1]\n",
    "roc_auc = roc_auc_score(y_test, pred)\n",
    "print('Метрика ROC-AUC на тестовой выборке:\\n\\n', roc_auc)"
   ]
  },
  {
   "cell_type": "code",
   "execution_count": 49,
   "id": "fedd184e",
   "metadata": {},
   "outputs": [
    {
     "name": "stdout",
     "output_type": "stream",
     "text": [
      "Classes: ['Прежний уровень' 'Снизилась']\n"
     ]
    }
   ],
   "source": [
    "classes = best_model.named_steps['models'].classes_\n",
    "print(\"Classes:\", classes)"
   ]
  },
  {
   "cell_type": "markdown",
   "id": "7788d101",
   "metadata": {},
   "source": [
    "## Шаг 7. Анализ важности признаков"
   ]
  },
  {
   "cell_type": "code",
   "execution_count": 50,
   "id": "86bee559",
   "metadata": {},
   "outputs": [],
   "source": [
    "# Assuming randomized_search is your trained RandomizedSearchCV object\n",
    "best_model = randomized_search.best_estimator_\n",
    "\n",
    "# Apply the pipeline to the test data\n",
    "y_pred = best_model.predict(X_test)\n",
    "\n",
    "# Create a SHAP explainer object\n",
    "# Note: Ensure that the model used here can be interpreted by SHAP. Most tree-based models are supported directly.\n",
    "explainer = shap.Explainer(best_model.named_steps['models'], best_model.named_steps['preprocessor'].transform(X_train))\n",
    "\n",
    "# Compute SHAP values for the transformed test data\n",
    "shap_values = explainer(best_model.named_steps['preprocessor'].transform(X_test))\n"
   ]
  },
  {
   "cell_type": "code",
   "execution_count": 51,
   "id": "e8168982",
   "metadata": {},
   "outputs": [],
   "source": [
    "def get_feature_names(column_transformer):\n",
    "    \"\"\"Get feature names from a ColumnTransformer.\"\"\"\n",
    "    output_features = []\n",
    "\n",
    "    for name, pipe, features in column_transformer.transformers_:\n",
    "        if name == 'remainder':\n",
    "            continue\n",
    "        if hasattr(pipe, 'named_steps'):\n",
    "            if 'ohe' in pipe.named_steps:\n",
    "                ohe = pipe.named_steps['ohe']\n",
    "                if isinstance(ohe, OneHotEncoder):\n",
    "                    feature_names = ohe.get_feature_names_out(input_features=features)\n",
    "                    output_features.extend(feature_names)\n",
    "            else:\n",
    "                output_features.extend(features)\n",
    "        else:\n",
    "            output_features.extend(features)\n",
    "\n",
    "    return output_features\n",
    "\n",
    "# Extract feature names from the pipeline\n",
    "transformed_feature_names = get_feature_names(best_model.named_steps['preprocessor'])"
   ]
  },
  {
   "cell_type": "code",
   "execution_count": 52,
   "id": "4787125b",
   "metadata": {},
   "outputs": [
    {
     "data": {
      "image/png": "[encoded data removed]",
      "text/plain": [
       "<Figure size 576x684 with 2 Axes>"
      ]
     },
     "metadata": {
      "needs_background": "light"
     },
     "output_type": "display_data"
    }
   ],
   "source": [
    "shap.summary_plot(shap_values, best_model.named_steps['preprocessor'].transform(X_test), feature_names=transformed_feature_names)"
   ]
  },
  {
   "cell_type": "markdown",
   "id": "1bd40dee",
   "metadata": {},
   "source": [
    "По графику можно видеть, что основными факторами, влияющими на снижение активности являются:\n",
    "- количество страниц за визит (чем больше, тем меньше вероятность снижения активности)\n",
    "- среднее количество категорий за визит (чем больше, тем меньше вероятность снижения активности)\n",
    "- количество минут, проведенных на сайте за предыдущий месяц (чем больше, тем меньше вероятность снижения активности)\n",
    "- количество неоплаченных продуктов (чем больше, тем больше вероятность снижения активности)\n",
    "- доля акционных покупок (чем больше, тем больше вероятность снижения активности)"
   ]
  },
  {
   "cell_type": "markdown",
   "id": "aa1e0475",
   "metadata": {},
   "source": [
    "Меньше всего влияют на снижение активности категория товаров, маркетинговая активность и выручка в *текущем* месяце и разрешение сообщать о маркетинговых акциях"
   ]
  },
  {
   "cell_type": "markdown",
   "id": "71602ab1",
   "metadata": {},
   "source": [
    "Заметим, что наиоблее значимыми признаками являются признаки, отвечающие за продуктовое поведение клиента и поведение на сайте, следовательно, необходимо сосредоточиться на факторах, отвечающих за эти два типа поведений."
   ]
  },
  {
   "cell_type": "markdown",
   "id": "87202a65",
   "metadata": {},
   "source": [
    "## Шаг 8. Сегментация покупателей"
   ]
  },
  {
   "cell_type": "code",
   "execution_count": 53,
   "id": "1f33b09a",
   "metadata": {},
   "outputs": [
    {
     "name": "stdout",
     "output_type": "stream",
     "text": [
      "<class 'pandas.core.frame.DataFrame'>\n",
      "RangeIndex: 1296 entries, 0 to 1295\n",
      "Data columns (total 19 columns):\n",
      " #   Column                               Non-Null Count  Dtype  \n",
      "---  ------                               --------------  -----  \n",
      " 0   id                                   1296 non-null   int64  \n",
      " 1   Покупательская активность            1296 non-null   object \n",
      " 2   Тип сервиса                          1296 non-null   object \n",
      " 3   Разрешить сообщать                   1296 non-null   object \n",
      " 4   Маркет_актив_6_мес                   1296 non-null   float64\n",
      " 5   Маркет_актив_тек_мес                 1296 non-null   int64  \n",
      " 6   Длительность                         1296 non-null   int64  \n",
      " 7   Акционные_покупки                    1296 non-null   float64\n",
      " 8   Популярная_категория                 1296 non-null   object \n",
      " 9   Средний_просмотр_категорий_за_визит  1296 non-null   int64  \n",
      " 10  Неоплаченные_продукты_штук_квартал   1296 non-null   int64  \n",
      " 11  Ошибка_сервиса                       1296 non-null   int64  \n",
      " 12  Страниц_за_визит                     1296 non-null   int64  \n",
      " 13  предыдущий_месяц_выручка             1296 non-null   float64\n",
      " 14  препредыдущий_месяц_выручка          1296 non-null   float64\n",
      " 15  текущий_месяц_выручка                1296 non-null   float64\n",
      " 16  предыдущий_месяц_минут               1296 non-null   int64  \n",
      " 17  текущий_месяц_минут                  1296 non-null   int64  \n",
      " 18  Прибыль                              1296 non-null   float64\n",
      "dtypes: float64(6), int64(9), object(4)\n",
      "memory usage: 192.5+ KB\n"
     ]
    }
   ],
   "source": [
    "data = pd.merge(data, money, on='id', how='left')\n",
    "\n",
    "data.info()"
   ]
  },
  {
   "cell_type": "code",
   "execution_count": 54,
   "id": "3bad5e9b",
   "metadata": {},
   "outputs": [],
   "source": [
    "data['Покупательская_активность_pred'] = best_model.predict_proba(data.drop(['Покупательская активность','id', 'Прибыль'], axis=1))[:,1]"
   ]
  },
  {
   "cell_type": "code",
   "execution_count": 55,
   "id": "0fd05883",
   "metadata": {},
   "outputs": [
    {
     "data": {
      "text/html": [
       "<div>\n",
       "<style scoped>\n",
       "    .dataframe tbody tr th:only-of-type {\n",
       "        vertical-align: middle;\n",
       "    }\n",
       "\n",
       "    .dataframe tbody tr th {\n",
       "        vertical-align: top;\n",
       "    }\n",
       "\n",
       "    .dataframe thead th {\n",
       "        text-align: right;\n",
       "    }\n",
       "</style>\n",
       "<table border=\"1\" class=\"dataframe\">\n",
       "  <thead>\n",
       "    <tr style=\"text-align: right;\">\n",
       "      <th></th>\n",
       "      <th>id</th>\n",
       "      <th>Покупательская активность</th>\n",
       "      <th>Тип сервиса</th>\n",
       "      <th>Разрешить сообщать</th>\n",
       "      <th>Маркет_актив_6_мес</th>\n",
       "      <th>Маркет_актив_тек_мес</th>\n",
       "      <th>Длительность</th>\n",
       "      <th>Акционные_покупки</th>\n",
       "      <th>Популярная_категория</th>\n",
       "      <th>Средний_просмотр_категорий_за_визит</th>\n",
       "      <th>Неоплаченные_продукты_штук_квартал</th>\n",
       "      <th>Ошибка_сервиса</th>\n",
       "      <th>Страниц_за_визит</th>\n",
       "      <th>предыдущий_месяц_выручка</th>\n",
       "      <th>препредыдущий_месяц_выручка</th>\n",
       "      <th>текущий_месяц_выручка</th>\n",
       "      <th>предыдущий_месяц_минут</th>\n",
       "      <th>текущий_месяц_минут</th>\n",
       "      <th>Прибыль</th>\n",
       "      <th>Покупательская_активность_pred</th>\n",
       "    </tr>\n",
       "  </thead>\n",
       "  <tbody>\n",
       "    <tr>\n",
       "      <th>0</th>\n",
       "      <td>215349</td>\n",
       "      <td>Снизилась</td>\n",
       "      <td>премиум</td>\n",
       "      <td>да</td>\n",
       "      <td>4.4</td>\n",
       "      <td>4</td>\n",
       "      <td>819</td>\n",
       "      <td>0.75</td>\n",
       "      <td>Товары для детей</td>\n",
       "      <td>4</td>\n",
       "      <td>4</td>\n",
       "      <td>2</td>\n",
       "      <td>5</td>\n",
       "      <td>5216.0</td>\n",
       "      <td>4472.0</td>\n",
       "      <td>4971.6</td>\n",
       "      <td>12</td>\n",
       "      <td>10</td>\n",
       "      <td>4.16</td>\n",
       "      <td>0.868285</td>\n",
       "    </tr>\n",
       "    <tr>\n",
       "      <th>1</th>\n",
       "      <td>215350</td>\n",
       "      <td>Снизилась</td>\n",
       "      <td>стандарт</td>\n",
       "      <td>нет</td>\n",
       "      <td>4.9</td>\n",
       "      <td>3</td>\n",
       "      <td>539</td>\n",
       "      <td>0.14</td>\n",
       "      <td>Домашний текстиль</td>\n",
       "      <td>5</td>\n",
       "      <td>2</td>\n",
       "      <td>1</td>\n",
       "      <td>5</td>\n",
       "      <td>5457.5</td>\n",
       "      <td>4826.0</td>\n",
       "      <td>5058.4</td>\n",
       "      <td>8</td>\n",
       "      <td>13</td>\n",
       "      <td>3.13</td>\n",
       "      <td>0.328846</td>\n",
       "    </tr>\n",
       "    <tr>\n",
       "      <th>2</th>\n",
       "      <td>215351</td>\n",
       "      <td>Снизилась</td>\n",
       "      <td>стандарт</td>\n",
       "      <td>да</td>\n",
       "      <td>3.2</td>\n",
       "      <td>5</td>\n",
       "      <td>896</td>\n",
       "      <td>0.99</td>\n",
       "      <td>Товары для детей</td>\n",
       "      <td>5</td>\n",
       "      <td>0</td>\n",
       "      <td>6</td>\n",
       "      <td>4</td>\n",
       "      <td>6158.0</td>\n",
       "      <td>4793.0</td>\n",
       "      <td>6610.4</td>\n",
       "      <td>11</td>\n",
       "      <td>13</td>\n",
       "      <td>4.87</td>\n",
       "      <td>0.771397</td>\n",
       "    </tr>\n",
       "    <tr>\n",
       "      <th>3</th>\n",
       "      <td>215352</td>\n",
       "      <td>Снизилась</td>\n",
       "      <td>стандарт</td>\n",
       "      <td>нет</td>\n",
       "      <td>5.1</td>\n",
       "      <td>3</td>\n",
       "      <td>1064</td>\n",
       "      <td>0.94</td>\n",
       "      <td>Товары для детей</td>\n",
       "      <td>3</td>\n",
       "      <td>2</td>\n",
       "      <td>3</td>\n",
       "      <td>2</td>\n",
       "      <td>5807.5</td>\n",
       "      <td>4594.0</td>\n",
       "      <td>5872.5</td>\n",
       "      <td>8</td>\n",
       "      <td>11</td>\n",
       "      <td>4.21</td>\n",
       "      <td>0.947552</td>\n",
       "    </tr>\n",
       "    <tr>\n",
       "      <th>4</th>\n",
       "      <td>215353</td>\n",
       "      <td>Снизилась</td>\n",
       "      <td>стандарт</td>\n",
       "      <td>да</td>\n",
       "      <td>3.3</td>\n",
       "      <td>4</td>\n",
       "      <td>762</td>\n",
       "      <td>0.26</td>\n",
       "      <td>Домашний текстиль</td>\n",
       "      <td>4</td>\n",
       "      <td>1</td>\n",
       "      <td>1</td>\n",
       "      <td>4</td>\n",
       "      <td>4738.5</td>\n",
       "      <td>5124.0</td>\n",
       "      <td>5388.5</td>\n",
       "      <td>10</td>\n",
       "      <td>10</td>\n",
       "      <td>3.95</td>\n",
       "      <td>0.604037</td>\n",
       "    </tr>\n",
       "  </tbody>\n",
       "</table>\n",
       "</div>"
      ],
      "text/plain": [
       "       id Покупательская активность Тип сервиса Разрешить сообщать  \\\n",
       "0  215349                 Снизилась     премиум                 да   \n",
       "1  215350                 Снизилась    стандарт                нет   \n",
       "2  215351                 Снизилась    стандарт                 да   \n",
       "3  215352                 Снизилась    стандарт                нет   \n",
       "4  215353                 Снизилась    стандарт                 да   \n",
       "\n",
       "   Маркет_актив_6_мес  Маркет_актив_тек_мес  Длительность  Акционные_покупки  \\\n",
       "0                 4.4                     4           819               0.75   \n",
       "1                 4.9                     3           539               0.14   \n",
       "2                 3.2                     5           896               0.99   \n",
       "3                 5.1                     3          1064               0.94   \n",
       "4                 3.3                     4           762               0.26   \n",
       "\n",
       "  Популярная_категория  Средний_просмотр_категорий_за_визит  \\\n",
       "0     Товары для детей                                    4   \n",
       "1    Домашний текстиль                                    5   \n",
       "2     Товары для детей                                    5   \n",
       "3     Товары для детей                                    3   \n",
       "4    Домашний текстиль                                    4   \n",
       "\n",
       "   Неоплаченные_продукты_штук_квартал  Ошибка_сервиса  Страниц_за_визит  \\\n",
       "0                                   4               2                 5   \n",
       "1                                   2               1                 5   \n",
       "2                                   0               6                 4   \n",
       "3                                   2               3                 2   \n",
       "4                                   1               1                 4   \n",
       "\n",
       "   предыдущий_месяц_выручка  препредыдущий_месяц_выручка  \\\n",
       "0                    5216.0                       4472.0   \n",
       "1                    5457.5                       4826.0   \n",
       "2                    6158.0                       4793.0   \n",
       "3                    5807.5                       4594.0   \n",
       "4                    4738.5                       5124.0   \n",
       "\n",
       "   текущий_месяц_выручка  предыдущий_месяц_минут  текущий_месяц_минут  \\\n",
       "0                 4971.6                      12                   10   \n",
       "1                 5058.4                       8                   13   \n",
       "2                 6610.4                      11                   13   \n",
       "3                 5872.5                       8                   11   \n",
       "4                 5388.5                      10                   10   \n",
       "\n",
       "   Прибыль  Покупательская_активность_pred  \n",
       "0     4.16                        0.868285  \n",
       "1     3.13                        0.328846  \n",
       "2     4.87                        0.771397  \n",
       "3     4.21                        0.947552  \n",
       "4     3.95                        0.604037  "
      ]
     },
     "execution_count": 55,
     "metadata": {},
     "output_type": "execute_result"
    }
   ],
   "source": [
    "data.head()"
   ]
  },
  {
   "cell_type": "code",
   "execution_count": 56,
   "id": "4e6f1e70",
   "metadata": {},
   "outputs": [
    {
     "data": {
      "text/html": [
       "<div>\n",
       "<style scoped>\n",
       "    .dataframe tbody tr th:only-of-type {\n",
       "        vertical-align: middle;\n",
       "    }\n",
       "\n",
       "    .dataframe tbody tr th {\n",
       "        vertical-align: top;\n",
       "    }\n",
       "\n",
       "    .dataframe thead th {\n",
       "        text-align: right;\n",
       "    }\n",
       "</style>\n",
       "<table border=\"1\" class=\"dataframe\">\n",
       "  <thead>\n",
       "    <tr style=\"text-align: right;\">\n",
       "      <th></th>\n",
       "      <th>count</th>\n",
       "      <th>mean</th>\n",
       "      <th>std</th>\n",
       "      <th>min</th>\n",
       "      <th>25%</th>\n",
       "      <th>50%</th>\n",
       "      <th>75%</th>\n",
       "      <th>max</th>\n",
       "    </tr>\n",
       "  </thead>\n",
       "  <tbody>\n",
       "    <tr>\n",
       "      <th>id</th>\n",
       "      <td>1296.0</td>\n",
       "      <td>215999.464506</td>\n",
       "      <td>374.327860</td>\n",
       "      <td>215349.000000</td>\n",
       "      <td>215675.750000</td>\n",
       "      <td>215999.500000</td>\n",
       "      <td>216323.250000</td>\n",
       "      <td>216647.00000</td>\n",
       "    </tr>\n",
       "    <tr>\n",
       "      <th>Маркет_актив_6_мес</th>\n",
       "      <td>1296.0</td>\n",
       "      <td>4.256404</td>\n",
       "      <td>1.013525</td>\n",
       "      <td>0.900000</td>\n",
       "      <td>3.700000</td>\n",
       "      <td>4.200000</td>\n",
       "      <td>4.900000</td>\n",
       "      <td>6.60000</td>\n",
       "    </tr>\n",
       "    <tr>\n",
       "      <th>Маркет_актив_тек_мес</th>\n",
       "      <td>1296.0</td>\n",
       "      <td>4.009259</td>\n",
       "      <td>0.696316</td>\n",
       "      <td>3.000000</td>\n",
       "      <td>4.000000</td>\n",
       "      <td>4.000000</td>\n",
       "      <td>4.000000</td>\n",
       "      <td>5.00000</td>\n",
       "    </tr>\n",
       "    <tr>\n",
       "      <th>Длительность</th>\n",
       "      <td>1296.0</td>\n",
       "      <td>602.967593</td>\n",
       "      <td>249.195823</td>\n",
       "      <td>121.000000</td>\n",
       "      <td>409.500000</td>\n",
       "      <td>606.500000</td>\n",
       "      <td>806.250000</td>\n",
       "      <td>1079.00000</td>\n",
       "    </tr>\n",
       "    <tr>\n",
       "      <th>Акционные_покупки</th>\n",
       "      <td>1296.0</td>\n",
       "      <td>0.320069</td>\n",
       "      <td>0.249159</td>\n",
       "      <td>0.110000</td>\n",
       "      <td>0.170000</td>\n",
       "      <td>0.240000</td>\n",
       "      <td>0.300000</td>\n",
       "      <td>0.99000</td>\n",
       "    </tr>\n",
       "    <tr>\n",
       "      <th>Средний_просмотр_категорий_за_визит</th>\n",
       "      <td>1296.0</td>\n",
       "      <td>3.267747</td>\n",
       "      <td>1.355125</td>\n",
       "      <td>1.000000</td>\n",
       "      <td>2.000000</td>\n",
       "      <td>3.000000</td>\n",
       "      <td>4.000000</td>\n",
       "      <td>6.00000</td>\n",
       "    </tr>\n",
       "    <tr>\n",
       "      <th>Неоплаченные_продукты_штук_квартал</th>\n",
       "      <td>1296.0</td>\n",
       "      <td>2.841821</td>\n",
       "      <td>1.974074</td>\n",
       "      <td>0.000000</td>\n",
       "      <td>1.000000</td>\n",
       "      <td>3.000000</td>\n",
       "      <td>4.000000</td>\n",
       "      <td>10.00000</td>\n",
       "    </tr>\n",
       "    <tr>\n",
       "      <th>Ошибка_сервиса</th>\n",
       "      <td>1296.0</td>\n",
       "      <td>4.184414</td>\n",
       "      <td>1.951719</td>\n",
       "      <td>0.000000</td>\n",
       "      <td>3.000000</td>\n",
       "      <td>4.000000</td>\n",
       "      <td>6.000000</td>\n",
       "      <td>9.00000</td>\n",
       "    </tr>\n",
       "    <tr>\n",
       "      <th>Страниц_за_визит</th>\n",
       "      <td>1296.0</td>\n",
       "      <td>8.187500</td>\n",
       "      <td>3.978459</td>\n",
       "      <td>1.000000</td>\n",
       "      <td>5.000000</td>\n",
       "      <td>8.000000</td>\n",
       "      <td>11.000000</td>\n",
       "      <td>20.00000</td>\n",
       "    </tr>\n",
       "    <tr>\n",
       "      <th>предыдущий_месяц_выручка</th>\n",
       "      <td>1296.0</td>\n",
       "      <td>4947.468750</td>\n",
       "      <td>700.797239</td>\n",
       "      <td>2890.000000</td>\n",
       "      <td>4498.125000</td>\n",
       "      <td>5005.500000</td>\n",
       "      <td>5405.625000</td>\n",
       "      <td>6869.50000</td>\n",
       "    </tr>\n",
       "    <tr>\n",
       "      <th>препредыдущий_месяц_выручка</th>\n",
       "      <td>1296.0</td>\n",
       "      <td>4836.202160</td>\n",
       "      <td>333.514091</td>\n",
       "      <td>4098.000000</td>\n",
       "      <td>4584.500000</td>\n",
       "      <td>4810.500000</td>\n",
       "      <td>5056.000000</td>\n",
       "      <td>5663.00000</td>\n",
       "    </tr>\n",
       "    <tr>\n",
       "      <th>текущий_месяц_выручка</th>\n",
       "      <td>1296.0</td>\n",
       "      <td>5238.096065</td>\n",
       "      <td>834.318717</td>\n",
       "      <td>2758.700000</td>\n",
       "      <td>4706.050000</td>\n",
       "      <td>5179.950000</td>\n",
       "      <td>5759.275000</td>\n",
       "      <td>7799.40000</td>\n",
       "    </tr>\n",
       "    <tr>\n",
       "      <th>предыдущий_месяц_минут</th>\n",
       "      <td>1296.0</td>\n",
       "      <td>13.470679</td>\n",
       "      <td>3.937630</td>\n",
       "      <td>5.000000</td>\n",
       "      <td>10.750000</td>\n",
       "      <td>13.000000</td>\n",
       "      <td>17.000000</td>\n",
       "      <td>23.00000</td>\n",
       "    </tr>\n",
       "    <tr>\n",
       "      <th>текущий_месяц_минут</th>\n",
       "      <td>1296.0</td>\n",
       "      <td>13.210648</td>\n",
       "      <td>4.221794</td>\n",
       "      <td>4.000000</td>\n",
       "      <td>10.000000</td>\n",
       "      <td>13.000000</td>\n",
       "      <td>16.000000</td>\n",
       "      <td>23.00000</td>\n",
       "    </tr>\n",
       "    <tr>\n",
       "      <th>Прибыль</th>\n",
       "      <td>1296.0</td>\n",
       "      <td>3.997701</td>\n",
       "      <td>1.011198</td>\n",
       "      <td>0.860000</td>\n",
       "      <td>3.300000</td>\n",
       "      <td>4.045000</td>\n",
       "      <td>4.670000</td>\n",
       "      <td>7.43000</td>\n",
       "    </tr>\n",
       "    <tr>\n",
       "      <th>Покупательская_активность_pred</th>\n",
       "      <td>1296.0</td>\n",
       "      <td>0.381973</td>\n",
       "      <td>0.351165</td>\n",
       "      <td>0.003512</td>\n",
       "      <td>0.081889</td>\n",
       "      <td>0.215867</td>\n",
       "      <td>0.755069</td>\n",
       "      <td>0.99816</td>\n",
       "    </tr>\n",
       "  </tbody>\n",
       "</table>\n",
       "</div>"
      ],
      "text/plain": [
       "                                      count           mean         std  \\\n",
       "id                                   1296.0  215999.464506  374.327860   \n",
       "Маркет_актив_6_мес                   1296.0       4.256404    1.013525   \n",
       "Маркет_актив_тек_мес                 1296.0       4.009259    0.696316   \n",
       "Длительность                         1296.0     602.967593  249.195823   \n",
       "Акционные_покупки                    1296.0       0.320069    0.249159   \n",
       "Средний_просмотр_категорий_за_визит  1296.0       3.267747    1.355125   \n",
       "Неоплаченные_продукты_штук_квартал   1296.0       2.841821    1.974074   \n",
       "Ошибка_сервиса                       1296.0       4.184414    1.951719   \n",
       "Страниц_за_визит                     1296.0       8.187500    3.978459   \n",
       "предыдущий_месяц_выручка             1296.0    4947.468750  700.797239   \n",
       "препредыдущий_месяц_выручка          1296.0    4836.202160  333.514091   \n",
       "текущий_месяц_выручка                1296.0    5238.096065  834.318717   \n",
       "предыдущий_месяц_минут               1296.0      13.470679    3.937630   \n",
       "текущий_месяц_минут                  1296.0      13.210648    4.221794   \n",
       "Прибыль                              1296.0       3.997701    1.011198   \n",
       "Покупательская_активность_pred       1296.0       0.381973    0.351165   \n",
       "\n",
       "                                               min            25%  \\\n",
       "id                                   215349.000000  215675.750000   \n",
       "Маркет_актив_6_мес                        0.900000       3.700000   \n",
       "Маркет_актив_тек_мес                      3.000000       4.000000   \n",
       "Длительность                            121.000000     409.500000   \n",
       "Акционные_покупки                         0.110000       0.170000   \n",
       "Средний_просмотр_категорий_за_визит       1.000000       2.000000   \n",
       "Неоплаченные_продукты_штук_квартал        0.000000       1.000000   \n",
       "Ошибка_сервиса                            0.000000       3.000000   \n",
       "Страниц_за_визит                          1.000000       5.000000   \n",
       "предыдущий_месяц_выручка               2890.000000    4498.125000   \n",
       "препредыдущий_месяц_выручка            4098.000000    4584.500000   \n",
       "текущий_месяц_выручка                  2758.700000    4706.050000   \n",
       "предыдущий_месяц_минут                    5.000000      10.750000   \n",
       "текущий_месяц_минут                       4.000000      10.000000   \n",
       "Прибыль                                   0.860000       3.300000   \n",
       "Покупательская_активность_pred            0.003512       0.081889   \n",
       "\n",
       "                                               50%            75%  \\\n",
       "id                                   215999.500000  216323.250000   \n",
       "Маркет_актив_6_мес                        4.200000       4.900000   \n",
       "Маркет_актив_тек_мес                      4.000000       4.000000   \n",
       "Длительность                            606.500000     806.250000   \n",
       "Акционные_покупки                         0.240000       0.300000   \n",
       "Средний_просмотр_категорий_за_визит       3.000000       4.000000   \n",
       "Неоплаченные_продукты_штук_квартал        3.000000       4.000000   \n",
       "Ошибка_сервиса                            4.000000       6.000000   \n",
       "Страниц_за_визит                          8.000000      11.000000   \n",
       "предыдущий_месяц_выручка               5005.500000    5405.625000   \n",
       "препредыдущий_месяц_выручка            4810.500000    5056.000000   \n",
       "текущий_месяц_выручка                  5179.950000    5759.275000   \n",
       "предыдущий_месяц_минут                   13.000000      17.000000   \n",
       "текущий_месяц_минут                      13.000000      16.000000   \n",
       "Прибыль                                   4.045000       4.670000   \n",
       "Покупательская_активность_pred            0.215867       0.755069   \n",
       "\n",
       "                                              max  \n",
       "id                                   216647.00000  \n",
       "Маркет_актив_6_мес                        6.60000  \n",
       "Маркет_актив_тек_мес                      5.00000  \n",
       "Длительность                           1079.00000  \n",
       "Акционные_покупки                         0.99000  \n",
       "Средний_просмотр_категорий_за_визит       6.00000  \n",
       "Неоплаченные_продукты_штук_квартал       10.00000  \n",
       "Ошибка_сервиса                            9.00000  \n",
       "Страниц_за_визит                         20.00000  \n",
       "предыдущий_месяц_выручка               6869.50000  \n",
       "препредыдущий_месяц_выручка            5663.00000  \n",
       "текущий_месяц_выручка                  7799.40000  \n",
       "предыдущий_месяц_минут                   23.00000  \n",
       "текущий_месяц_минут                      23.00000  \n",
       "Прибыль                                   7.43000  \n",
       "Покупательская_активность_pred            0.99816  "
      ]
     },
     "execution_count": 56,
     "metadata": {},
     "output_type": "execute_result"
    }
   ],
   "source": [
    "data.describe().T"
   ]
  },
  {
   "cell_type": "markdown",
   "id": "1b07fdc7",
   "metadata": {},
   "source": [
    "Определим покупателей с высоким риском как тех у кого вероятность снижения покупательской активность выше, чем у 75% квантиля:"
   ]
  },
  {
   "cell_type": "code",
   "execution_count": 57,
   "id": "2ad12a19",
   "metadata": {},
   "outputs": [
    {
     "data": {
      "text/plain": [
       "324"
      ]
     },
     "execution_count": 57,
     "metadata": {},
     "output_type": "execute_result"
    }
   ],
   "source": [
    "condition = (\n",
    "    (data['Покупательская_активность_pred'] >= 0.755069)\n",
    ")\n",
    "\n",
    "data['high_risk'] = 0\n",
    "data.loc[condition, 'high_risk'] = 1\n",
    "\n",
    "data['high_risk'].sum()"
   ]
  },
  {
   "cell_type": "code",
   "execution_count": 58,
   "id": "5a683c61",
   "metadata": {},
   "outputs": [],
   "source": [
    "data['risk_category'] = data['high_risk'].map({1: 'High Risk', 0: 'Low Risk'})"
   ]
  },
  {
   "cell_type": "markdown",
   "id": "7dc2a438",
   "metadata": {},
   "source": [
    "В сегменте с высоким риском получилось 324 клиентов.\n",
    "\n",
    "Теперь соединим данные с данными по прибыли и проанализируем финансовые показатели для разных групп."
   ]
  },
  {
   "cell_type": "code",
   "execution_count": 59,
   "id": "7cf8e45d",
   "metadata": {},
   "outputs": [
    {
     "name": "stdout",
     "output_type": "stream",
     "text": [
      "risk_category\n",
      "High Risk    5388.20\n",
      "Low Risk     5140.75\n",
      "Name: текущий_месяц_выручка, dtype: float64\n"
     ]
    }
   ],
   "source": [
    "median_revenue = data.groupby('risk_category')['текущий_месяц_выручка'].median()\n",
    "\n",
    "print(median_revenue)"
   ]
  },
  {
   "cell_type": "code",
   "execution_count": 60,
   "id": "0b801019",
   "metadata": {
    "scrolled": true
   },
   "outputs": [
    {
     "name": "stdout",
     "output_type": "stream",
     "text": [
      "risk_category\n",
      "High Risk    5128.25\n",
      "Low Risk     4979.75\n",
      "Name: предыдущий_месяц_выручка, dtype: float64\n"
     ]
    }
   ],
   "source": [
    "median_revenue = data.groupby('risk_category')['предыдущий_месяц_выручка'].median()\n",
    "\n",
    "print(median_revenue)"
   ]
  },
  {
   "cell_type": "code",
   "execution_count": 61,
   "id": "bb708a76",
   "metadata": {},
   "outputs": [
    {
     "name": "stdout",
     "output_type": "stream",
     "text": [
      "risk_category\n",
      "High Risk    4597.0\n",
      "Low Risk     4905.0\n",
      "Name: препредыдущий_месяц_выручка, dtype: float64\n"
     ]
    }
   ],
   "source": [
    "median_revenue = data.groupby('risk_category')['препредыдущий_месяц_выручка'].median()\n",
    "\n",
    "print(median_revenue)"
   ]
  },
  {
   "cell_type": "code",
   "execution_count": 62,
   "id": "d1532caa",
   "metadata": {
    "scrolled": false
   },
   "outputs": [
    {
     "name": "stdout",
     "output_type": "stream",
     "text": [
      "risk_category\n",
      "High Risk    4.08\n",
      "Low Risk     4.03\n",
      "Name: Прибыль, dtype: float64\n"
     ]
    }
   ],
   "source": [
    "median_profit = data.groupby('risk_category')['Прибыль'].median()\n",
    "\n",
    "print(median_profit)"
   ]
  },
  {
   "cell_type": "code",
   "execution_count": 63,
   "id": "a5f51d4d",
   "metadata": {},
   "outputs": [],
   "source": [
    "num_columns = data.select_dtypes(include=['number']).columns\n",
    "num_columns = num_columns[num_columns != 'id']"
   ]
  },
  {
   "cell_type": "code",
   "execution_count": 64,
   "id": "457d746b",
   "metadata": {
    "scrolled": false
   },
   "outputs": [
    {
     "data": {
      "image/png": "[encoded data removed]",
      "text/plain": [
       "<Figure size 432x288 with 1 Axes>"
      ]
     },
     "metadata": {
      "needs_background": "light"
     },
     "output_type": "display_data"
    },
    {
     "data": {
      "image/png": "[encoded data removed]",
      "text/plain": [
       "<Figure size 432x288 with 1 Axes>"
      ]
     },
     "metadata": {
      "needs_background": "light"
     },
     "output_type": "display_data"
    },
    {
     "data": {
      "image/png": "[encoded data removed]",
      "text/plain": [
       "<Figure size 432x288 with 1 Axes>"
      ]
     },
     "metadata": {
      "needs_background": "light"
     },
     "output_type": "display_data"
    },
    {
     "data": {
      "image/png": "[encoded data removed]",
      "text/plain": [
       "<Figure size 432x288 with 1 Axes>"
      ]
     },
     "metadata": {
      "needs_background": "light"
     },
     "output_type": "display_data"
    },
    {
     "data": {
      "image/png": "[encoded data removed]",
      "text/plain": [
       "<Figure size 432x288 with 1 Axes>"
      ]
     },
     "metadata": {
      "needs_background": "light"
     },
     "output_type": "display_data"
    },
    {
     "data": {
      "image/png": "[encoded data removed]",
      "text/plain": [
       "<Figure size 432x288 with 1 Axes>"
      ]
     },
     "metadata": {
      "needs_background": "light"
     },
     "output_type": "display_data"
    },
    {
     "data": {
      "image/png": "[encoded data removed]",
      "text/plain": [
       "<Figure size 432x288 with 1 Axes>"
      ]
     },
     "metadata": {
      "needs_background": "light"
     },
     "output_type": "display_data"
    },
    {
     "data": {
      "image/png": "[encoded data removed]",
      "text/plain": [
       "<Figure size 432x288 with 1 Axes>"
      ]
     },
     "metadata": {
      "needs_background": "light"
     },
     "output_type": "display_data"
    },
    {
     "data": {
      "image/png": "[encoded data removed]",
      "text/plain": [
       "<Figure size 432x288 with 1 Axes>"
      ]
     },
     "metadata": {
      "needs_background": "light"
     },
     "output_type": "display_data"
    },
    {
     "data": {
      "image/png": "[encoded data removed]",
      "text/plain": [
       "<Figure size 432x288 with 1 Axes>"
      ]
     },
     "metadata": {
      "needs_background": "light"
     },
     "output_type": "display_data"
    },
    {
     "data": {
      "image/png": "[encoded data removed]",
      "text/plain": [
       "<Figure size 432x288 with 1 Axes>"
      ]
     },
     "metadata": {
      "needs_background": "light"
     },
     "output_type": "display_data"
    },
    {
     "data": {
      "image/png": "[encoded data removed]",
      "text/plain": [
       "<Figure size 432x288 with 1 Axes>"
      ]
     },
     "metadata": {
      "needs_background": "light"
     },
     "output_type": "display_data"
    },
    {
     "data": {
      "image/png": "[encoded data removed]",
      "text/plain": [
       "<Figure size 432x288 with 1 Axes>"
      ]
     },
     "metadata": {
      "needs_background": "light"
     },
     "output_type": "display_data"
    },
    {
     "data": {
      "image/png": "[encoded data removed]",
      "text/plain": [
       "<Figure size 432x288 with 1 Axes>"
      ]
     },
     "metadata": {
      "needs_background": "light"
     },
     "output_type": "display_data"
    },
    {
     "data": {
      "image/png": "[encoded data removed]",
      "text/plain": [
       "<Figure size 432x288 with 1 Axes>"
      ]
     },
     "metadata": {
      "needs_background": "light"
     },
     "output_type": "display_data"
    },
    {
     "data": {
      "image/png": "[encoded data removed]",
      "text/plain": [
       "<Figure size 432x288 with 1 Axes>"
      ]
     },
     "metadata": {
      "needs_background": "light"
     },
     "output_type": "display_data"
    }
   ],
   "source": [
    "for column in num_columns:\n",
    "    sns.histplot(data=data, x=column, hue='risk_category', bins=20)\n",
    "    plt.show()"
   ]
  },
  {
   "cell_type": "markdown",
   "id": "07558d8a",
   "metadata": {},
   "source": [
    "Заметим, что пользователи из сегмента с высоким риском приносят в среднем большую прибыль и большую выручку за текущий и предыдущий месяц, однако в препредыдущий месяц выручка этого сегмента была ниже. Также клиенты с высоким риском склонны больше покупать акционных товаров.\n",
    "\n",
    "Для митигации риска снижения активности предложим следующие шаги:\n",
    "- проанализировать корреляцию выручки по сегментам с сезонными праздниками\n",
    "- кастомизировать маркетинговые кампании, чтобы более эффективно сообщать об акциях\n",
    "- проанализировать причины неоплаченных покупок в корзине\n",
    "- предлагать продукты из смежных категорий."
   ]
  },
  {
   "cell_type": "markdown",
   "id": "bf0c872b",
   "metadata": {},
   "source": [
    "## Шаг 9. Общий вывод"
   ]
  },
  {
   "cell_type": "markdown",
   "id": "ae25e1e3",
   "metadata": {},
   "source": [
    "В данном проекте были проанализированы данные интернет-магазина «В один клик», основная задача состоит в анализе потребительских предпочтений клиентов и персонализация предложения для митигации рисков снижения покупательской активности в дальнейшем. В рамках проекта были выполнены следующие шаги:\n",
    "- загрузка данных: были загружены и изучены 4 датасета с исходными данными\n",
    "- предобработка данных: были выявлены явные и неявные дубликаты, изучены пропуски\n",
    "- исследовательский анализ данных: проведен анализ категориальных и количественных признаков, выявлены и обработаны аномалии\n",
    "- объединение данных: датасеты преобразованы из \"длинной\" в \"широкую\" форму и объединены в один\n",
    "- корреляционный анализ: проведен корреляционный анализ количественных признаков, где выявлено, что нет мультиколлинеарности между признаками\n",
    "- модель: преобразованы количественные и качественные признаки, обучены ряд моделей, выбрана наилучшая модель на основе метрики roc auc; лучшая модель - модель логистической регрессии с параметрами: C=1, penalty='l1', solver='liblinear' (целевая метрика roc_auc = 0.9)\n",
    "- анализ важности признаков: проведен анализ важности признаков с помощью метода SHAP, выделены наиболее значимые признаки для динамики покупательской активности\n",
    "- сегментация пользователей: проведена сегментация клиентов, выделен сегмент, наиболее подверженный риску снижения покупательской активности и предлодены меры для митигации данного риска\n",
    "\n",
    "В рамках данного проекта был выделен наиболее рисковой сегмент на основе ML-модели и предложены меры по снижению данного риска, которые компания может применить."
   ]
  },
  {
   "cell_type": "code",
   "execution_count": null,
   "id": "12a1fbec",
   "metadata": {},
   "outputs": [],
   "source": []
  }
 ],
 "metadata": {
  "ExecuteTimeLog": [
   {
    "duration": 1849,
    "start_time": "2024-04-17T13:26:48.947Z"
   },
   {
    "duration": 68,
    "start_time": "2024-04-17T13:26:50.798Z"
   },
   {
    "duration": 50,
    "start_time": "2024-04-17T13:26:50.869Z"
   },
   {
    "duration": 43,
    "start_time": "2024-04-17T13:26:50.921Z"
   },
   {
    "duration": 53,
    "start_time": "2024-04-17T13:26:50.972Z"
   },
   {
    "duration": 3,
    "start_time": "2024-04-17T13:26:51.026Z"
   },
   {
    "duration": 49,
    "start_time": "2024-04-17T13:26:51.030Z"
   },
   {
    "duration": 14,
    "start_time": "2024-04-17T13:26:51.081Z"
   },
   {
    "duration": 25,
    "start_time": "2024-04-17T13:26:51.096Z"
   },
   {
    "duration": 37,
    "start_time": "2024-04-17T13:26:51.123Z"
   },
   {
    "duration": 5,
    "start_time": "2024-04-17T13:26:51.161Z"
   },
   {
    "duration": 33,
    "start_time": "2024-04-17T13:26:51.168Z"
   },
   {
    "duration": 26,
    "start_time": "2024-04-17T13:26:51.202Z"
   },
   {
    "duration": 16,
    "start_time": "2024-04-17T13:26:51.229Z"
   },
   {
    "duration": 32,
    "start_time": "2024-04-17T13:26:51.247Z"
   },
   {
    "duration": 25,
    "start_time": "2024-04-17T13:26:51.281Z"
   },
   {
    "duration": 573,
    "start_time": "2024-04-17T13:26:51.308Z"
   },
   {
    "duration": 32,
    "start_time": "2024-04-17T13:26:51.883Z"
   },
   {
    "duration": 3,
    "start_time": "2024-04-17T13:26:51.916Z"
   },
   {
    "duration": 2019,
    "start_time": "2024-04-17T13:26:51.920Z"
   },
   {
    "duration": 242,
    "start_time": "2024-04-17T13:26:53.940Z"
   },
   {
    "duration": 356,
    "start_time": "2024-04-17T13:26:54.184Z"
   },
   {
    "duration": 268,
    "start_time": "2024-04-17T13:26:54.542Z"
   },
   {
    "duration": 17,
    "start_time": "2024-04-17T13:26:54.812Z"
   },
   {
    "duration": 9,
    "start_time": "2024-04-17T13:26:54.830Z"
   },
   {
    "duration": 256,
    "start_time": "2024-04-17T13:26:54.840Z"
   },
   {
    "duration": 14,
    "start_time": "2024-04-17T13:26:55.098Z"
   },
   {
    "duration": 263,
    "start_time": "2024-04-17T13:26:55.115Z"
   },
   {
    "duration": 17,
    "start_time": "2024-04-17T13:26:55.380Z"
   },
   {
    "duration": 247,
    "start_time": "2024-04-17T13:26:55.399Z"
   },
   {
    "duration": 30,
    "start_time": "2024-04-17T13:26:55.647Z"
   },
   {
    "duration": 245,
    "start_time": "2024-04-17T13:26:55.679Z"
   },
   {
    "duration": 394,
    "start_time": "2024-04-17T13:26:55.925Z"
   },
   {
    "duration": 14,
    "start_time": "2024-04-17T13:26:56.320Z"
   },
   {
    "duration": 10,
    "start_time": "2024-04-17T13:26:56.335Z"
   },
   {
    "duration": 23,
    "start_time": "2024-04-17T13:26:56.347Z"
   },
   {
    "duration": 31,
    "start_time": "2024-04-17T13:26:56.372Z"
   },
   {
    "duration": 1447,
    "start_time": "2024-04-17T13:26:56.404Z"
   },
   {
    "duration": 25175,
    "start_time": "2024-04-17T13:26:57.852Z"
   },
   {
    "duration": 225,
    "start_time": "2024-04-17T13:27:23.029Z"
   },
   {
    "duration": 0,
    "start_time": "2024-04-17T13:27:23.256Z"
   },
   {
    "duration": 0,
    "start_time": "2024-04-17T13:27:23.266Z"
   },
   {
    "duration": 0,
    "start_time": "2024-04-17T13:27:23.267Z"
   },
   {
    "duration": 0,
    "start_time": "2024-04-17T13:27:23.268Z"
   },
   {
    "duration": 0,
    "start_time": "2024-04-17T13:27:23.269Z"
   },
   {
    "duration": 0,
    "start_time": "2024-04-17T13:27:23.270Z"
   },
   {
    "duration": 0,
    "start_time": "2024-04-17T13:27:23.271Z"
   }
  ],
  "kernelspec": {
   "display_name": "base",
   "language": "python",
   "name": "python3"
  },
  "language_info": {
   "codemirror_mode": {
    "name": "ipython",
    "version": 3
   },
   "file_extension": ".py",
   "mimetype": "text/x-python",
   "name": "python",
   "nbconvert_exporter": "python",
   "pygments_lexer": "ipython3",
   "version": "3.8.8"
  },
  "toc": {
   "base_numbering": 1,
   "nav_menu": {},
   "number_sections": true,
   "sideBar": true,
   "skip_h1_title": true,
   "title_cell": "Table of Contents",
   "title_sidebar": "Contents",
   "toc_cell": false,
   "toc_position": {
    "height": "calc(100% - 180px)",
    "left": "10px",
    "top": "150px",
    "width": "313.594px"
   },
   "toc_section_display": true,
   "toc_window_display": true
  }
 },
 "nbformat": 4,
 "nbformat_minor": 5
}
